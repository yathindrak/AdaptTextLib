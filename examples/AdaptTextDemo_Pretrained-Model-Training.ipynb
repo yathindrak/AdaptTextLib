{
 "cells": [
  {
   "cell_type": "code",
   "execution_count": 1,
   "id": "urban-requirement",
   "metadata": {},
   "outputs": [
    {
     "name": "stdout",
     "output_type": "stream",
     "text": [
      "Hit:1 http://security.ubuntu.com/ubuntu bionic-security InRelease\n",
      "Hit:2 http://archive.ubuntu.com/ubuntu bionic InRelease                        \u001b[0m\u001b[33m\n",
      "Hit:3 http://archive.ubuntu.com/ubuntu bionic-updates InRelease\n",
      "Hit:4 http://archive.ubuntu.com/ubuntu bionic-backports InRelease\n",
      "Reading package lists... Done\u001b[0m                  \u001b[33m\u001b[33m\n",
      "Building dependency tree       \n",
      "Reading state information... Done\n",
      "1 package can be upgraded. Run 'apt list --upgradable' to see it.\n",
      "Reading package lists... Done\n",
      "Building dependency tree       \n",
      "Reading state information... Done\n",
      "git is already the newest version (1:2.17.1-1ubuntu0.8).\n",
      "0 upgraded, 0 newly installed, 0 to remove and 1 not upgraded.\n"
     ]
    }
   ],
   "source": [
    "!apt update\n",
    "!apt install -y git"
   ]
  },
  {
   "cell_type": "code",
   "execution_count": 2,
   "id": "hourly-interview",
   "metadata": {},
   "outputs": [
    {
     "name": "stdout",
     "output_type": "stream",
     "text": [
      "fatal: destination path 'AdaptTextLib' already exists and is not an empty directory.\r\n"
     ]
    }
   ],
   "source": [
    "!git clone https://gitlab.com/AdaptText/AdaptTextLib.git"
   ]
  },
  {
   "cell_type": "code",
   "execution_count": 3,
   "id": "greek-literacy",
   "metadata": {},
   "outputs": [
    {
     "name": "stdout",
     "output_type": "stream",
     "text": [
      "mkdir: cannot create directory ‘/storage’: File exists\n",
      "mkdir: cannot create directory ‘/downloads’: File exists\n",
      "Hit:1 http://security.ubuntu.com/ubuntu bionic-security InRelease\n",
      "Hit:2 http://archive.ubuntu.com/ubuntu bionic InRelease                        \u001b[0m\n",
      "Hit:3 http://archive.ubuntu.com/ubuntu bionic-updates InRelease                \u001b[33m\n",
      "Hit:4 http://archive.ubuntu.com/ubuntu bionic-backports InRelease\n",
      "Reading package lists... Done\u001b[0m                  \u001b[33m\u001b[33m\n",
      "Building dependency tree       \n",
      "Reading state information... Done\n",
      "1 package can be upgraded. Run 'apt list --upgradable' to see it.\n",
      "setup.sh: line 31: cd: api: No such file or directory\n",
      "Requirement already satisfied: wikiextractor==0.01 in /opt/conda/lib/python3.7/site-packages (from -r requirements.txt (line 1)) (0.1)\n",
      "Requirement already satisfied: sentencepiece==0.1.95 in /opt/conda/lib/python3.7/site-packages (from -r requirements.txt (line 2)) (0.1.95)\n",
      "Requirement already satisfied: ninja==1.10.0 in /opt/conda/lib/python3.7/site-packages (from -r requirements.txt (line 3)) (1.10.0)\n",
      "Requirement already satisfied: emoji==1.2.0 in /opt/conda/lib/python3.7/site-packages (from -r requirements.txt (line 4)) (1.2.0)\n",
      "Requirement already satisfied: flask==1.1.2 in /opt/conda/lib/python3.7/site-packages (from -r requirements.txt (line 5)) (1.1.2)\n",
      "Requirement already satisfied: gunicorn==20.0.4 in /opt/conda/lib/python3.7/site-packages (from -r requirements.txt (line 6)) (20.0.4)\n",
      "Requirement already satisfied: torch in /opt/conda/lib/python3.7/site-packages (from -r requirements.txt (line 8)) (1.8.0)\n",
      "Requirement already satisfied: python-dotenv==0.15.0 in /opt/conda/lib/python3.7/site-packages (from -r requirements.txt (line 9)) (0.15.0)\n",
      "Requirement already satisfied: dropbox==11.2.0 in /opt/conda/lib/python3.7/site-packages (from -r requirements.txt (line 10)) (11.2.0)\n",
      "Requirement already satisfied: dataclasses==0.6 in /opt/conda/lib/python3.7/site-packages (from -r requirements.txt (line 11)) (0.6)\n",
      "Requirement already satisfied: spacy==2.3.5 in /opt/conda/lib/python3.7/site-packages (from -r requirements.txt (line 12)) (2.3.5)\n",
      "Requirement already satisfied: matplotlib==3.1.1 in /opt/conda/lib/python3.7/site-packages (from -r requirements.txt (line 14)) (3.1.1)\n",
      "Requirement already satisfied: scikit-learn==0.24.1 in /opt/conda/lib/python3.7/site-packages (from -r requirements.txt (line 16)) (0.24.1)\n",
      "Requirement already satisfied: fastprogress in /opt/conda/lib/python3.7/site-packages (from -r requirements.txt (line 17)) (1.0.0)\n",
      "Requirement already satisfied: scipy==1.6.1 in /opt/conda/lib/python3.7/site-packages (from -r requirements.txt (line 18)) (1.6.1)\n",
      "Requirement already satisfied: sklearn in /opt/conda/lib/python3.7/site-packages (from -r requirements.txt (line 19)) (0.0)\n",
      "Requirement already satisfied: pandas==1.2.3 in /opt/conda/lib/python3.7/site-packages (from -r requirements.txt (line 20)) (1.2.3)\n",
      "Requirement already satisfied: stone>=2.* in /opt/conda/lib/python3.7/site-packages (from dropbox==11.2.0->-r requirements.txt (line 10)) (3.2.1)\n",
      "Requirement already satisfied: six>=1.12.0 in /opt/conda/lib/python3.7/site-packages (from dropbox==11.2.0->-r requirements.txt (line 10)) (1.15.0)\n",
      "Requirement already satisfied: requests>=2.16.2 in /opt/conda/lib/python3.7/site-packages (from dropbox==11.2.0->-r requirements.txt (line 10)) (2.24.0)\n",
      "Requirement already satisfied: Werkzeug>=0.15 in /opt/conda/lib/python3.7/site-packages (from flask==1.1.2->-r requirements.txt (line 5)) (1.0.1)\n",
      "Requirement already satisfied: click>=5.1 in /opt/conda/lib/python3.7/site-packages (from flask==1.1.2->-r requirements.txt (line 5)) (7.1.2)\n",
      "Requirement already satisfied: itsdangerous>=0.24 in /opt/conda/lib/python3.7/site-packages (from flask==1.1.2->-r requirements.txt (line 5)) (1.1.0)\n",
      "Requirement already satisfied: Jinja2>=2.10.1 in /opt/conda/lib/python3.7/site-packages (from flask==1.1.2->-r requirements.txt (line 5)) (2.11.3)\n",
      "Requirement already satisfied: setuptools>=3.0 in /opt/conda/lib/python3.7/site-packages (from gunicorn==20.0.4->-r requirements.txt (line 6)) (52.0.0.post20210125)\n",
      "Requirement already satisfied: pyparsing!=2.0.4,!=2.1.2,!=2.1.6,>=2.0.1 in /opt/conda/lib/python3.7/site-packages (from matplotlib==3.1.1->-r requirements.txt (line 14)) (2.4.7)\n",
      "Requirement already satisfied: kiwisolver>=1.0.1 in /opt/conda/lib/python3.7/site-packages (from matplotlib==3.1.1->-r requirements.txt (line 14)) (1.3.1)\n",
      "Requirement already satisfied: cycler>=0.10 in /opt/conda/lib/python3.7/site-packages (from matplotlib==3.1.1->-r requirements.txt (line 14)) (0.10.0)\n",
      "Requirement already satisfied: python-dateutil>=2.1 in /opt/conda/lib/python3.7/site-packages (from matplotlib==3.1.1->-r requirements.txt (line 14)) (2.8.1)\n",
      "Requirement already satisfied: numpy>=1.11 in /opt/conda/lib/python3.7/site-packages (from matplotlib==3.1.1->-r requirements.txt (line 14)) (1.19.2)\n",
      "Requirement already satisfied: pytz>=2017.3 in /opt/conda/lib/python3.7/site-packages (from pandas==1.2.3->-r requirements.txt (line 20)) (2021.1)\n",
      "Requirement already satisfied: threadpoolctl>=2.0.0 in /opt/conda/lib/python3.7/site-packages (from scikit-learn==0.24.1->-r requirements.txt (line 16)) (2.1.0)\n",
      "Requirement already satisfied: joblib>=0.11 in /opt/conda/lib/python3.7/site-packages (from scikit-learn==0.24.1->-r requirements.txt (line 16)) (1.0.1)\n",
      "Requirement already satisfied: tqdm<5.0.0,>=4.38.0 in /opt/conda/lib/python3.7/site-packages (from spacy==2.3.5->-r requirements.txt (line 12)) (4.51.0)\n",
      "Requirement already satisfied: preshed<3.1.0,>=3.0.2 in /opt/conda/lib/python3.7/site-packages (from spacy==2.3.5->-r requirements.txt (line 12)) (3.0.5)\n",
      "Requirement already satisfied: blis<0.8.0,>=0.4.0 in /opt/conda/lib/python3.7/site-packages (from spacy==2.3.5->-r requirements.txt (line 12)) (0.7.4)\n",
      "Requirement already satisfied: srsly<1.1.0,>=1.0.2 in /opt/conda/lib/python3.7/site-packages (from spacy==2.3.5->-r requirements.txt (line 12)) (1.0.5)\n",
      "Requirement already satisfied: cymem<2.1.0,>=2.0.2 in /opt/conda/lib/python3.7/site-packages (from spacy==2.3.5->-r requirements.txt (line 12)) (2.0.5)\n",
      "Requirement already satisfied: murmurhash<1.1.0,>=0.28.0 in /opt/conda/lib/python3.7/site-packages (from spacy==2.3.5->-r requirements.txt (line 12)) (1.0.5)\n",
      "Requirement already satisfied: wasabi<1.1.0,>=0.4.0 in /opt/conda/lib/python3.7/site-packages (from spacy==2.3.5->-r requirements.txt (line 12)) (0.8.2)\n",
      "Requirement already satisfied: catalogue<1.1.0,>=0.0.7 in /opt/conda/lib/python3.7/site-packages (from spacy==2.3.5->-r requirements.txt (line 12)) (1.0.0)\n",
      "Requirement already satisfied: thinc<7.5.0,>=7.4.1 in /opt/conda/lib/python3.7/site-packages (from spacy==2.3.5->-r requirements.txt (line 12)) (7.4.5)\n",
      "Requirement already satisfied: plac<1.2.0,>=0.9.6 in /opt/conda/lib/python3.7/site-packages (from spacy==2.3.5->-r requirements.txt (line 12)) (1.1.3)\n",
      "Requirement already satisfied: importlib-metadata>=0.20 in /opt/conda/lib/python3.7/site-packages (from catalogue<1.1.0,>=0.0.7->spacy==2.3.5->-r requirements.txt (line 12)) (3.7.0)\n",
      "Requirement already satisfied: typing-extensions>=3.6.4 in /opt/conda/lib/python3.7/site-packages (from importlib-metadata>=0.20->catalogue<1.1.0,>=0.0.7->spacy==2.3.5->-r requirements.txt (line 12)) (3.7.4.3)\n",
      "Requirement already satisfied: zipp>=0.5 in /opt/conda/lib/python3.7/site-packages (from importlib-metadata>=0.20->catalogue<1.1.0,>=0.0.7->spacy==2.3.5->-r requirements.txt (line 12)) (3.4.1)\n",
      "Requirement already satisfied: MarkupSafe>=0.23 in /opt/conda/lib/python3.7/site-packages (from Jinja2>=2.10.1->flask==1.1.2->-r requirements.txt (line 5)) (1.1.1)\n",
      "Requirement already satisfied: chardet<4,>=3.0.2 in /opt/conda/lib/python3.7/site-packages (from requests>=2.16.2->dropbox==11.2.0->-r requirements.txt (line 10)) (3.0.4)\n",
      "Requirement already satisfied: idna<3,>=2.5 in /opt/conda/lib/python3.7/site-packages (from requests>=2.16.2->dropbox==11.2.0->-r requirements.txt (line 10)) (2.10)\n",
      "Requirement already satisfied: urllib3!=1.25.0,!=1.25.1,<1.26,>=1.21.1 in /opt/conda/lib/python3.7/site-packages (from requests>=2.16.2->dropbox==11.2.0->-r requirements.txt (line 10)) (1.25.11)\n",
      "Requirement already satisfied: certifi>=2017.4.17 in /opt/conda/lib/python3.7/site-packages (from requests>=2.16.2->dropbox==11.2.0->-r requirements.txt (line 10)) (2020.12.5)\n",
      "Requirement already satisfied: ply>=3.4 in /opt/conda/lib/python3.7/site-packages (from stone>=2.*->dropbox==11.2.0->-r requirements.txt (line 10)) (3.11)\n",
      "cp: cannot stat './adapttext.service': No such file or directory\n",
      "mkdir: cannot create directory ‘./adapttext/optimizer’: File exists\n",
      "fatal: destination path 'fastai1' already exists and is not an empty directory.\n",
      "Cloning into 'Best-Deep-Learning-Optimizers'...\n",
      "remote: Enumerating objects: 12, done.\u001b[K\n",
      "remote: Counting objects: 100% (12/12), done.\u001b[K\n",
      "remote: Compressing objects: 100% (12/12), done.\u001b[K\n",
      "remote: Total 190 (delta 4), reused 1 (delta 0), pack-reused 178\u001b[K\n",
      "Receiving objects: 100% (190/190), 849.15 KiB | 6.58 MiB/s, done.\n",
      "Resolving deltas: 100% (85/85), done.\n"
     ]
    }
   ],
   "source": [
    "!cd AdaptTextLib && bash setup.sh"
   ]
  },
  {
   "cell_type": "code",
   "execution_count": 4,
   "id": "hindu-tyler",
   "metadata": {},
   "outputs": [],
   "source": [
    "from AdaptTextLib.adapttext.adapt_text import AdaptText\n",
    "\n",
    "lang = 'si'\n",
    "app_root = \"/storage\"\n",
    "bs = 128\n",
    "splitting_ratio = 0.1\n",
    "adapttext = AdaptText(lang, app_root, bs, splitting_ratio)"
   ]
  },
  {
   "cell_type": "code",
   "execution_count": 5,
   "id": "academic-spokesman",
   "metadata": {},
   "outputs": [
    {
     "name": "stdout",
     "output_type": "stream",
     "text": [
      "Base LM corpus not found, preparing the corpus...\n",
      "downloading articles...\n"
     ]
    },
    {
     "data": {
      "text/html": [],
      "text/plain": [
       "<IPython.core.display.HTML object>"
      ]
     },
     "metadata": {},
     "output_type": "display_data"
    },
    {
     "name": "stdout",
     "output_type": "stream",
     "text": [
      "unzipping articles archive...\n",
      "extracting wiki articles...\n",
      "Retrieved wiki articles\n",
      "Completed preparing wiki articles\n",
      "CAN CAST SEED\n",
      "42\n",
      "True\n",
      "CAN CAST SEED END\n",
      "PRINTINGGGG\n",
      "<class 'float'>\n",
      "<class 'int'>\n"
     ]
    },
    {
     "data": {
      "text/html": [],
      "text/plain": [
       "<IPython.core.display.HTML object>"
      ]
     },
     "metadata": {},
     "output_type": "display_data"
    },
    {
     "data": {
      "text/html": [],
      "text/plain": [
       "<IPython.core.display.HTML object>"
      ]
     },
     "metadata": {},
     "output_type": "display_data"
    },
    {
     "name": "stdout",
     "output_type": "stream",
     "text": [
      "30000 4609\n",
      "CAN CAST SEED\n",
      "42\n",
      "True\n",
      "CAN CAST SEED END\n",
      "PRINTINGGGG\n",
      "<class 'float'>\n",
      "<class 'int'>\n"
     ]
    },
    {
     "data": {
      "text/html": [],
      "text/plain": [
       "<IPython.core.display.HTML object>"
      ]
     },
     "metadata": {},
     "output_type": "display_data"
    },
    {
     "data": {
      "text/html": [],
      "text/plain": [
       "<IPython.core.display.HTML object>"
      ]
     },
     "metadata": {},
     "output_type": "display_data"
    },
    {
     "name": "stdout",
     "output_type": "stream",
     "text": [
      "30000 4609\n"
     ]
    },
    {
     "data": {
      "text/html": [
       "\n",
       "    <div>\n",
       "        <style>\n",
       "            /* Turns off some styling */\n",
       "            progress {\n",
       "                /* gets rid of default border in Firefox and Opera. */\n",
       "                border: none;\n",
       "                /* Needs to be in here for Safari polyfill so background images work as expected. */\n",
       "                background-size: auto;\n",
       "            }\n",
       "            .progress-bar-interrupted, .progress-bar-interrupted::-webkit-progress-bar {\n",
       "                background: #F44336;\n",
       "            }\n",
       "        </style>\n",
       "      <progress value='0' class='' max='1' style='width:300px; height:20px; vertical-align: middle;'></progress>\n",
       "      0.00% [0/1 00:00<00:00]\n",
       "    </div>\n",
       "    \n",
       "<table border=\"1\" class=\"dataframe\">\n",
       "  <thead>\n",
       "    <tr style=\"text-align: left;\">\n",
       "      <th>epoch</th>\n",
       "      <th>train_loss</th>\n",
       "      <th>valid_loss</th>\n",
       "      <th>accuracy</th>\n",
       "      <th>time</th>\n",
       "    </tr>\n",
       "  </thead>\n",
       "  <tbody>\n",
       "  </tbody>\n",
       "</table><p>\n",
       "\n",
       "    <div>\n",
       "        <style>\n",
       "            /* Turns off some styling */\n",
       "            progress {\n",
       "                /* gets rid of default border in Firefox and Opera. */\n",
       "                border: none;\n",
       "                /* Needs to be in here for Safari polyfill so background images work as expected. */\n",
       "                background-size: auto;\n",
       "            }\n",
       "            .progress-bar-interrupted, .progress-bar-interrupted::-webkit-progress-bar {\n",
       "                background: #F44336;\n",
       "            }\n",
       "        </style>\n",
       "      <progress value='99' class='' max='3957' style='width:300px; height:20px; vertical-align: middle;'></progress>\n",
       "      2.50% [99/3957 00:12<07:56 15.0548]\n",
       "    </div>\n",
       "    "
      ],
      "text/plain": [
       "<IPython.core.display.HTML object>"
      ]
     },
     "metadata": {},
     "output_type": "display_data"
    },
    {
     "name": "stdout",
     "output_type": "stream",
     "text": [
      "LR Finder is complete, type {learner_name}.recorder.plot() to see the graph.\n",
      "Min numerical gradient: 5.25E-03\n",
      "Min loss divided by 10: 6.31E-02\n"
     ]
    },
    {
     "data": {
      "text/html": [
       "<table border=\"1\" class=\"dataframe\">\n",
       "  <thead>\n",
       "    <tr style=\"text-align: left;\">\n",
       "      <th>epoch</th>\n",
       "      <th>train_loss</th>\n",
       "      <th>valid_loss</th>\n",
       "      <th>accuracy</th>\n",
       "      <th>time</th>\n",
       "    </tr>\n",
       "  </thead>\n",
       "  <tbody>\n",
       "    <tr>\n",
       "      <td>0</td>\n",
       "      <td>5.689951</td>\n",
       "      <td>5.332414</td>\n",
       "      <td>0.256586</td>\n",
       "      <td>07:59</td>\n",
       "    </tr>\n",
       "    <tr>\n",
       "      <td>1</td>\n",
       "      <td>4.988726</td>\n",
       "      <td>4.751798</td>\n",
       "      <td>0.272683</td>\n",
       "      <td>08:00</td>\n",
       "    </tr>\n",
       "    <tr>\n",
       "      <td>2</td>\n",
       "      <td>4.791052</td>\n",
       "      <td>4.547880</td>\n",
       "      <td>0.282970</td>\n",
       "      <td>08:00</td>\n",
       "    </tr>\n",
       "    <tr>\n",
       "      <td>3</td>\n",
       "      <td>4.699626</td>\n",
       "      <td>4.439354</td>\n",
       "      <td>0.288273</td>\n",
       "      <td>08:00</td>\n",
       "    </tr>\n",
       "    <tr>\n",
       "      <td>4</td>\n",
       "      <td>4.633091</td>\n",
       "      <td>4.369416</td>\n",
       "      <td>0.294161</td>\n",
       "      <td>08:00</td>\n",
       "    </tr>\n",
       "    <tr>\n",
       "      <td>5</td>\n",
       "      <td>4.554603</td>\n",
       "      <td>4.299444</td>\n",
       "      <td>0.298380</td>\n",
       "      <td>08:00</td>\n",
       "    </tr>\n",
       "    <tr>\n",
       "      <td>6</td>\n",
       "      <td>4.471114</td>\n",
       "      <td>4.244123</td>\n",
       "      <td>0.301094</td>\n",
       "      <td>08:00</td>\n",
       "    </tr>\n",
       "    <tr>\n",
       "      <td>7</td>\n",
       "      <td>4.360523</td>\n",
       "      <td>4.194486</td>\n",
       "      <td>0.305429</td>\n",
       "      <td>08:00</td>\n",
       "    </tr>\n",
       "    <tr>\n",
       "      <td>8</td>\n",
       "      <td>4.328582</td>\n",
       "      <td>4.168719</td>\n",
       "      <td>0.307258</td>\n",
       "      <td>08:00</td>\n",
       "    </tr>\n",
       "    <tr>\n",
       "      <td>9</td>\n",
       "      <td>4.315717</td>\n",
       "      <td>4.163713</td>\n",
       "      <td>0.307688</td>\n",
       "      <td>08:00</td>\n",
       "    </tr>\n",
       "  </tbody>\n",
       "</table>"
      ],
      "text/plain": [
       "<IPython.core.display.HTML object>"
      ]
     },
     "metadata": {},
     "output_type": "display_data"
    },
    {
     "name": "stdout",
     "output_type": "stream",
     "text": [
      "Better model found at epoch 0 with valid_loss value: 5.332414150238037.\n",
      "Better model found at epoch 1 with valid_loss value: 4.751798152923584.\n",
      "Better model found at epoch 2 with valid_loss value: 4.547879695892334.\n",
      "Better model found at epoch 3 with valid_loss value: 4.439353942871094.\n",
      "Better model found at epoch 4 with valid_loss value: 4.369415760040283.\n",
      "Better model found at epoch 5 with valid_loss value: 4.299444198608398.\n",
      "Better model found at epoch 6 with valid_loss value: 4.244122505187988.\n",
      "Better model found at epoch 7 with valid_loss value: 4.194486141204834.\n",
      "Better model found at epoch 8 with valid_loss value: 4.1687188148498535.\n",
      "Better model found at epoch 9 with valid_loss value: 4.163712501525879.\n"
     ]
    },
    {
     "data": {
      "text/html": [
       "\n",
       "    <div>\n",
       "        <style>\n",
       "            /* Turns off some styling */\n",
       "            progress {\n",
       "                /* gets rid of default border in Firefox and Opera. */\n",
       "                border: none;\n",
       "                /* Needs to be in here for Safari polyfill so background images work as expected. */\n",
       "                background-size: auto;\n",
       "            }\n",
       "            .progress-bar-interrupted, .progress-bar-interrupted::-webkit-progress-bar {\n",
       "                background: #F44336;\n",
       "            }\n",
       "        </style>\n",
       "      <progress value='0' class='' max='1' style='width:300px; height:20px; vertical-align: middle;'></progress>\n",
       "      0.00% [0/1 00:00<00:00]\n",
       "    </div>\n",
       "    \n",
       "<table border=\"1\" class=\"dataframe\">\n",
       "  <thead>\n",
       "    <tr style=\"text-align: left;\">\n",
       "      <th>epoch</th>\n",
       "      <th>train_loss</th>\n",
       "      <th>valid_loss</th>\n",
       "      <th>accuracy</th>\n",
       "      <th>time</th>\n",
       "    </tr>\n",
       "  </thead>\n",
       "  <tbody>\n",
       "  </tbody>\n",
       "</table><p>\n",
       "\n",
       "    <div>\n",
       "        <style>\n",
       "            /* Turns off some styling */\n",
       "            progress {\n",
       "                /* gets rid of default border in Firefox and Opera. */\n",
       "                border: none;\n",
       "                /* Needs to be in here for Safari polyfill so background images work as expected. */\n",
       "                background-size: auto;\n",
       "            }\n",
       "            .progress-bar-interrupted, .progress-bar-interrupted::-webkit-progress-bar {\n",
       "                background: #F44336;\n",
       "            }\n",
       "        </style>\n",
       "      <progress value='99' class='' max='3957' style='width:300px; height:20px; vertical-align: middle;'></progress>\n",
       "      2.50% [99/3957 00:11<07:42 21.1692]\n",
       "    </div>\n",
       "    "
      ],
      "text/plain": [
       "<IPython.core.display.HTML object>"
      ]
     },
     "metadata": {},
     "output_type": "display_data"
    },
    {
     "name": "stdout",
     "output_type": "stream",
     "text": [
      "LR Finder is complete, type {learner_name}.recorder.plot() to see the graph.\n",
      "Min numerical gradient: 5.25E-03\n",
      "Min loss divided by 10: 6.31E-02\n"
     ]
    },
    {
     "data": {
      "text/html": [
       "<table border=\"1\" class=\"dataframe\">\n",
       "  <thead>\n",
       "    <tr style=\"text-align: left;\">\n",
       "      <th>epoch</th>\n",
       "      <th>train_loss</th>\n",
       "      <th>valid_loss</th>\n",
       "      <th>accuracy</th>\n",
       "      <th>time</th>\n",
       "    </tr>\n",
       "  </thead>\n",
       "  <tbody>\n",
       "    <tr>\n",
       "      <td>0</td>\n",
       "      <td>5.612590</td>\n",
       "      <td>5.305285</td>\n",
       "      <td>0.234122</td>\n",
       "      <td>08:00</td>\n",
       "    </tr>\n",
       "    <tr>\n",
       "      <td>1</td>\n",
       "      <td>4.975410</td>\n",
       "      <td>4.723069</td>\n",
       "      <td>0.251551</td>\n",
       "      <td>08:00</td>\n",
       "    </tr>\n",
       "    <tr>\n",
       "      <td>2</td>\n",
       "      <td>4.853987</td>\n",
       "      <td>4.533096</td>\n",
       "      <td>0.259501</td>\n",
       "      <td>08:00</td>\n",
       "    </tr>\n",
       "    <tr>\n",
       "      <td>3</td>\n",
       "      <td>4.724722</td>\n",
       "      <td>4.433343</td>\n",
       "      <td>0.265646</td>\n",
       "      <td>08:00</td>\n",
       "    </tr>\n",
       "    <tr>\n",
       "      <td>4</td>\n",
       "      <td>4.609433</td>\n",
       "      <td>4.359403</td>\n",
       "      <td>0.269962</td>\n",
       "      <td>08:00</td>\n",
       "    </tr>\n",
       "    <tr>\n",
       "      <td>5</td>\n",
       "      <td>4.578918</td>\n",
       "      <td>4.319886</td>\n",
       "      <td>0.274230</td>\n",
       "      <td>08:00</td>\n",
       "    </tr>\n",
       "    <tr>\n",
       "      <td>6</td>\n",
       "      <td>4.523896</td>\n",
       "      <td>4.333803</td>\n",
       "      <td>0.274872</td>\n",
       "      <td>08:00</td>\n",
       "    </tr>\n",
       "    <tr>\n",
       "      <td>7</td>\n",
       "      <td>4.476129</td>\n",
       "      <td>4.334918</td>\n",
       "      <td>0.277615</td>\n",
       "      <td>08:00</td>\n",
       "    </tr>\n",
       "    <tr>\n",
       "      <td>8</td>\n",
       "      <td>4.298633</td>\n",
       "      <td>4.159321</td>\n",
       "      <td>0.284900</td>\n",
       "      <td>08:00</td>\n",
       "    </tr>\n",
       "    <tr>\n",
       "      <td>9</td>\n",
       "      <td>4.299263</td>\n",
       "      <td>4.154645</td>\n",
       "      <td>0.285365</td>\n",
       "      <td>08:00</td>\n",
       "    </tr>\n",
       "  </tbody>\n",
       "</table>"
      ],
      "text/plain": [
       "<IPython.core.display.HTML object>"
      ]
     },
     "metadata": {},
     "output_type": "display_data"
    },
    {
     "name": "stdout",
     "output_type": "stream",
     "text": [
      "Better model found at epoch 0 with valid_loss value: 5.3052849769592285.\n",
      "Better model found at epoch 1 with valid_loss value: 4.723068714141846.\n",
      "Better model found at epoch 2 with valid_loss value: 4.533095836639404.\n",
      "Better model found at epoch 3 with valid_loss value: 4.433343410491943.\n",
      "Better model found at epoch 4 with valid_loss value: 4.359403133392334.\n",
      "Better model found at epoch 5 with valid_loss value: 4.319885730743408.\n",
      "Epoch 6: reducing lr to 0.0016321175216007094\n",
      "Better model found at epoch 8 with valid_loss value: 4.159321308135986.\n",
      "Better model found at epoch 9 with valid_loss value: 4.154644966125488.\n"
     ]
    },
    {
     "data": {
      "image/png": "[encoded data removed]",
      "text/plain": [
       "<Figure size 432x288 with 1 Axes>"
      ]
     },
     "metadata": {
      "needs_background": "light"
     },
     "output_type": "display_data"
    },
    {
     "data": {
      "image/png": "[encoded data removed]",
      "text/plain": [
       "<Figure size 432x288 with 1 Axes>"
      ]
     },
     "metadata": {
      "needs_background": "light"
     },
     "output_type": "display_data"
    }
   ],
   "source": [
    "adapttext.build_base_lm()"
   ]
  },
  {
   "cell_type": "code",
   "execution_count": 6,
   "id": "bulgarian-analysis",
   "metadata": {},
   "outputs": [
    {
     "name": "stderr",
     "output_type": "stream",
     "text": [
      "Uploaded: 310378496it [04:17, 1206940.33it/s]                               "
     ]
    },
    {
     "name": "stdout",
     "output_type": "stream",
     "text": [
      "FileMetadata(client_modified=datetime.datetime(2021, 3, 15, 5, 59, 1), content_hash='e99543a01623da05227b082332d43f75be603c1081c1518a9a87c13ded09feb1', export_info=NOT_SET, file_lock_info=NOT_SET, has_explicit_shared_members=NOT_SET, id='id:VCuBLpcP-7AAAAAAAAAAdQ', is_downloadable=True, media_info=NOT_SET, name='half_si_dedup.zip', parent_shared_folder_id=NOT_SET, path_display='/adapttext/models/half_si_dedup.zip', path_lower='/adapttext/models/half_si_dedup.zip', property_groups=NOT_SET, rev='015bd8cf248db4300000001afa107c0', server_modified=datetime.datetime(2021, 3, 15, 5, 59, 1), sharing_info=NOT_SET, size=309810297, symlink_info=NOT_SET)\n"
     ]
    },
    {
     "name": "stderr",
     "output_type": "stream",
     "text": [
      "\n"
     ]
    }
   ],
   "source": [
    "adapttext.store_lm(\"half_si_dedup.zip\")"
   ]
  }
 ],
 "metadata": {
  "kernelspec": {
   "display_name": "Python 3",
   "language": "python",
   "name": "python3"
  },
  "language_info": {
   "codemirror_mode": {
    "name": "ipython",
    "version": 3
   },
   "file_extension": ".py",
   "mimetype": "text/x-python",
   "name": "python",
   "nbconvert_exporter": "python",
   "pygments_lexer": "ipython3",
   "version": "3.7.10"
  }
 },
 "nbformat": 4,
 "nbformat_minor": 5
}
