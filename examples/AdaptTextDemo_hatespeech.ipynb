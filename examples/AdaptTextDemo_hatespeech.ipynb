{
 "cells": [
  {
   "cell_type": "code",
   "execution_count": 2,
   "id": "owned-present",
   "metadata": {
    "scrolled": true
   },
   "outputs": [
    {
     "name": "stdout",
     "output_type": "stream",
     "text": [
      "Get:1 http://archive.ubuntu.com/ubuntu bionic InRelease [242 kB]\n",
      "Get:2 http://security.ubuntu.com/ubuntu bionic-security InRelease [88.7 kB]    \n",
      "Get:3 http://archive.ubuntu.com/ubuntu bionic-updates InRelease [88.7 kB]      \n",
      "Get:4 http://archive.ubuntu.com/ubuntu bionic-backports InRelease [74.6 kB]    \n",
      "Get:5 http://archive.ubuntu.com/ubuntu bionic/main amd64 Packages [1,019 kB]   \n",
      "Get:6 http://archive.ubuntu.com/ubuntu bionic/main Translation-en [516 kB]     \n",
      "Get:7 http://archive.ubuntu.com/ubuntu bionic/restricted amd64 Packages [9,184 B]\n",
      "Get:8 http://archive.ubuntu.com/ubuntu bionic/restricted Translation-en [3,584 B]\n",
      "Get:9 http://archive.ubuntu.com/ubuntu bionic/universe amd64 Packages [8,570 kB]\n",
      "Get:10 http://archive.ubuntu.com/ubuntu bionic/universe Translation-en [4,941 kB]\n",
      "Get:11 http://archive.ubuntu.com/ubuntu bionic/multiverse amd64 Packages [151 kB]\n",
      "Get:12 http://archive.ubuntu.com/ubuntu bionic/multiverse Translation-en [108 kB]\n",
      "Get:13 http://archive.ubuntu.com/ubuntu bionic-updates/main amd64 Packages [1,978 kB]\n",
      "Get:14 http://archive.ubuntu.com/ubuntu bionic-updates/main Translation-en [402 kB]\n",
      "Get:15 http://archive.ubuntu.com/ubuntu bionic-updates/restricted amd64 Packages [286 kB]\n",
      "Get:16 http://archive.ubuntu.com/ubuntu bionic-updates/restricted Translation-en [38.2 kB]\n",
      "Get:17 http://archive.ubuntu.com/ubuntu bionic-updates/universe amd64 Packages [1,724 kB]\n",
      "Get:18 http://archive.ubuntu.com/ubuntu bionic-updates/universe Translation-en [365 kB]\n",
      "Get:19 http://archive.ubuntu.com/ubuntu bionic-updates/multiverse amd64 Packages [24.9 kB]\n",
      "Get:20 http://archive.ubuntu.com/ubuntu bionic-updates/multiverse Translation-en [6,464 B]\n",
      "Get:21 http://archive.ubuntu.com/ubuntu bionic-backports/main amd64 Packages [10.0 kB]\n",
      "Get:22 http://archive.ubuntu.com/ubuntu bionic-backports/main Translation-en [4,764 B]\n",
      "Get:23 http://security.ubuntu.com/ubuntu bionic-security/main amd64 Packages [1,639 kB]\n",
      "Get:24 http://archive.ubuntu.com/ubuntu bionic-backports/universe amd64 Packages [10.3 kB]\n",
      "Get:25 http://archive.ubuntu.com/ubuntu bionic-backports/universe Translation-en [4,588 B]\n",
      "Get:26 http://security.ubuntu.com/ubuntu bionic-security/main Translation-en [310 kB]\n",
      "Get:27 http://security.ubuntu.com/ubuntu bionic-security/restricted amd64 Packages [265 kB]\n",
      "Get:28 http://security.ubuntu.com/ubuntu bionic-security/restricted Translation-en [34.6 kB]\n",
      "Get:29 http://security.ubuntu.com/ubuntu bionic-security/universe amd64 Packages [1,118 kB]\n",
      "Get:30 http://security.ubuntu.com/ubuntu bionic-security/universe Translation-en [251 kB]\n",
      "Get:31 http://security.ubuntu.com/ubuntu bionic-security/multiverse amd64 Packages [19.1 kB]\n",
      "Get:32 http://security.ubuntu.com/ubuntu bionic-security/multiverse Translation-en [4,412 B]\n",
      "Fetched 24.3 MB in 4s (5,940 kB/s)                                 \n",
      "Reading package lists... Done\n",
      "Reading package lists... Done\n",
      "Building dependency tree       \n",
      "Reading state information... Done\n",
      "Suggested packages:\n",
      "  git-daemon-run | git-daemon-sysvinit git-doc git-el git-email git-gui gitk\n",
      "  gitweb git-cvs git-mediawiki git-svn\n",
      "The following packages will be upgraded:\n",
      "  git\n",
      "1 upgraded, 0 newly installed, 0 to remove and 131 not upgraded.\n",
      "Need to get 3,916 kB of archives.\n",
      "After this operation, 8,192 B of additional disk space will be used.\n",
      "Get:1 http://archive.ubuntu.com/ubuntu bionic-updates/main amd64 git amd64 1:2.17.1-1ubuntu0.8 [3,916 kB]\n",
      "Fetched 3,916 kB in 0s (10.6 MB/s)\u001b[33m\n",
      "\n",
      "(Reading database ... 72609 files and directories currently installed.)\n",
      "Preparing to unpack .../git_1%3a2.17.1-1ubuntu0.8_amd64.deb ...\n",
      "\u001b7\u001b[24;0f\u001b[42m\u001b[30mProgress: [  0%]\u001b[49m\u001b[39m [..........................................................] \u001b8\u001b7\u001b[24;0f\u001b[42m\u001b[30mProgress: [ 17%]\u001b[49m\u001b[39m [#########.................................................] \u001b8Unpacking git (1:2.17.1-1ubuntu0.8) over (1:2.17.1-1ubuntu0.7) ...\n",
      "\u001b7\u001b[24;0f\u001b[42m\u001b[30mProgress: [ 33%]\u001b[49m\u001b[39m [###################.......................................] \u001b8\u001b7\u001b[24;0f\u001b[42m\u001b[30mProgress: [ 50%]\u001b[49m\u001b[39m [#############################.............................] \u001b8Setting up git (1:2.17.1-1ubuntu0.8) ...\n",
      "\u001b7\u001b[24;0f\u001b[42m\u001b[30mProgress: [ 67%]\u001b[49m\u001b[39m [######################################....................] \u001b8\u001b7\u001b[24;0f\u001b[42m\u001b[30mProgress: [ 83%]\u001b[49m\u001b[39m [################################################..........] \u001b8\n",
      "\u001b7\u001b[0;24r\u001b8\u001b[1A\u001b[J"
     ]
    }
   ],
   "source": [
    "!sudo apt-get update\n",
    "!sudo apt install -y git"
   ]
  },
  {
   "cell_type": "code",
   "execution_count": 3,
   "id": "exact-courtesy",
   "metadata": {},
   "outputs": [
    {
     "name": "stdout",
     "output_type": "stream",
     "text": [
      "Cloning into 'AdaptTextLib'...\n",
      "remote: Enumerating objects: 23, done.\u001b[K\n",
      "remote: Counting objects: 100% (23/23), done.\u001b[K\n",
      "remote: Compressing objects: 100% (23/23), done.\u001b[K\n",
      "remote: Total 655 (delta 10), reused 0 (delta 0), pack-reused 632\u001b[K\n",
      "Receiving objects: 100% (655/655), 843.45 KiB | 3.92 MiB/s, done.\n",
      "Resolving deltas: 100% (444/444), done.\n"
     ]
    }
   ],
   "source": [
    "!git clone https://gitlab.com/AdaptText/AdaptTextLib.git"
   ]
  },
  {
   "cell_type": "code",
   "execution_count": 4,
   "id": "furnished-palmer",
   "metadata": {
    "scrolled": true
   },
   "outputs": [
    {
     "name": "stdout",
     "output_type": "stream",
     "text": [
      "Hit:1 http://security.ubuntu.com/ubuntu bionic-security InRelease\n",
      "Hit:2 http://archive.ubuntu.com/ubuntu bionic InRelease\n",
      "Hit:3 http://archive.ubuntu.com/ubuntu bionic-updates InRelease\n",
      "Hit:4 http://archive.ubuntu.com/ubuntu bionic-backports InRelease\n",
      "Reading package lists... Done\u001b[0m\u001b[33m\u001b[33m\u001b[33m\u001b[33m\n",
      "Building dependency tree       \n",
      "Reading state information... Done\n",
      "131 packages can be upgraded. Run 'apt list --upgradable' to see them.\n",
      "setup.sh: line 43: pip3: command not found\n",
      "Cloning into 'fastai1'...\n",
      "remote: Enumerating objects: 150, done.\u001b[K\n",
      "remote: Counting objects: 100% (150/150), done.\u001b[K\n",
      "remote: Compressing objects: 100% (128/128), done.\u001b[K\n",
      "remote: Total 150 (delta 26), reused 131 (delta 18), pack-reused 0\u001b[K\n",
      "Receiving objects: 100% (150/150), 207.34 KiB | 3.14 MiB/s, done.\n",
      "Resolving deltas: 100% (26/26), done.\n",
      "Cloning into 'Best-Deep-Learning-Optimizers'...\n",
      "remote: Enumerating objects: 12, done.\u001b[K\n",
      "remote: Counting objects: 100% (12/12), done.\u001b[K\n",
      "remote: Compressing objects: 100% (12/12), done.\u001b[K\n",
      "remote: Total 190 (delta 4), reused 1 (delta 0), pack-reused 178\u001b[K\n",
      "Receiving objects: 100% (190/190), 849.15 KiB | 5.51 MiB/s, done.\n",
      "Resolving deltas: 100% (85/85), done.\n"
     ]
    }
   ],
   "source": [
    "!cd AdaptTextLib && sudo bash setup.sh"
   ]
  },
  {
   "cell_type": "code",
   "execution_count": 7,
   "id": "broke-samuel",
   "metadata": {},
   "outputs": [
    {
     "name": "stdout",
     "output_type": "stream",
     "text": [
      "Collecting wikiextractor==0.01\n",
      "  Downloading wikiextractor-0.1.tar.gz (36 kB)\n",
      "Collecting sentencepiece==0.1.95\n",
      "  Downloading sentencepiece-0.1.95-cp38-cp38-manylinux2014_x86_64.whl (1.2 MB)\n",
      "\u001b[K     |████████████████████████████████| 1.2 MB 7.1 MB/s eta 0:00:01\n",
      "\u001b[?25hCollecting ninja==1.10.0\n",
      "  Downloading ninja-1.10.0-py3-none-manylinux1_x86_64.whl (102 kB)\n",
      "\u001b[K     |████████████████████████████████| 102 kB 24.8 MB/s eta 0:00:01\n",
      "\u001b[?25hCollecting emoji==1.2.0\n",
      "  Downloading emoji-1.2.0-py3-none-any.whl (131 kB)\n",
      "\u001b[K     |████████████████████████████████| 131 kB 19.5 MB/s eta 0:00:01\n",
      "\u001b[?25hCollecting flask==1.1.2\n",
      "  Downloading Flask-1.1.2-py2.py3-none-any.whl (94 kB)\n",
      "\u001b[K     |████████████████████████████████| 94 kB 3.0 MB/s  eta 0:00:01\n",
      "\u001b[?25hCollecting gunicorn==20.0.4\n",
      "  Downloading gunicorn-20.0.4-py2.py3-none-any.whl (77 kB)\n",
      "\u001b[K     |████████████████████████████████| 77 kB 5.7 MB/s  eta 0:00:01\n",
      "\u001b[?25hRequirement already satisfied: torch in /home/user/anaconda3/envs/fastai/lib/python3.8/site-packages (from -r requirements.txt (line 8)) (1.6.0)\n",
      "Collecting python-dotenv==0.15.0\n",
      "  Downloading python_dotenv-0.15.0-py2.py3-none-any.whl (18 kB)\n",
      "Collecting dropbox==11.2.0\n",
      "  Downloading dropbox-11.2.0-py3-none-any.whl (555 kB)\n",
      "\u001b[K     |████████████████████████████████| 555 kB 14.5 MB/s eta 0:00:01\n",
      "\u001b[?25hCollecting dataclasses==0.6\n",
      "  Downloading dataclasses-0.6-py3-none-any.whl (14 kB)\n",
      "Collecting spacy==2.3.5\n",
      "  Downloading spacy-2.3.5-cp38-cp38-manylinux2014_x86_64.whl (10.5 MB)\n",
      "\u001b[K     |████████████████████████████████| 10.5 MB 38.1 MB/s eta 0:00:01\n",
      "\u001b[?25hRequirement already satisfied: numpy in /home/user/anaconda3/envs/fastai/lib/python3.8/site-packages (from -r requirements.txt (line 13)) (1.19.1)\n",
      "Requirement already satisfied: matplotlib in /home/user/anaconda3/envs/fastai/lib/python3.8/site-packages (from -r requirements.txt (line 14)) (3.3.1)\n",
      "Requirement already satisfied: scikit-learn in /home/user/anaconda3/envs/fastai/lib/python3.8/site-packages (from -r requirements.txt (line 16)) (0.23.2)\n",
      "Requirement already satisfied: fastprogress in /home/user/anaconda3/envs/fastai/lib/python3.8/site-packages (from -r requirements.txt (line 17)) (1.0.0)\n",
      "Collecting scipy==1.6.1\n",
      "  Downloading scipy-1.6.1-cp38-cp38-manylinux1_x86_64.whl (27.3 MB)\n",
      "\u001b[K     |████████████████████████████████| 27.3 MB 24.5 MB/s eta 0:00:01\n",
      "\u001b[?25hCollecting sklearn\n",
      "  Downloading sklearn-0.0.tar.gz (1.1 kB)\n",
      "Requirement already satisfied: pandas in /home/user/anaconda3/envs/fastai/lib/python3.8/site-packages (from -r requirements.txt (line 20)) (1.1.1)\n",
      "Collecting itsdangerous>=0.24\n",
      "  Downloading itsdangerous-1.1.0-py2.py3-none-any.whl (16 kB)\n",
      "Requirement already satisfied: Jinja2>=2.10.1 in /home/user/anaconda3/envs/fastai/lib/python3.8/site-packages (from flask==1.1.2->-r requirements.txt (line 5)) (2.11.2)\n",
      "Collecting click>=5.1\n",
      "  Downloading click-7.1.2-py2.py3-none-any.whl (82 kB)\n",
      "\u001b[K     |████████████████████████████████| 82 kB 1.1 MB/s  eta 0:00:01\n",
      "\u001b[?25hCollecting Werkzeug>=0.15\n",
      "  Downloading Werkzeug-1.0.1-py2.py3-none-any.whl (298 kB)\n",
      "\u001b[K     |████████████████████████████████| 298 kB 61.7 MB/s eta 0:00:01\n",
      "\u001b[?25hRequirement already satisfied: setuptools>=3.0 in /home/user/anaconda3/envs/fastai/lib/python3.8/site-packages (from gunicorn==20.0.4->-r requirements.txt (line 6)) (49.6.0.post20200814)\n",
      "Requirement already satisfied: future in /home/user/anaconda3/envs/fastai/lib/python3.8/site-packages (from torch->-r requirements.txt (line 8)) (0.18.2)\n",
      "Requirement already satisfied: requests>=2.16.2 in /home/user/anaconda3/envs/fastai/lib/python3.8/site-packages (from dropbox==11.2.0->-r requirements.txt (line 10)) (2.24.0)\n",
      "Requirement already satisfied: six>=1.12.0 in /home/user/anaconda3/envs/fastai/lib/python3.8/site-packages (from dropbox==11.2.0->-r requirements.txt (line 10)) (1.15.0)\n",
      "Collecting stone>=2.*\n",
      "  Downloading stone-3.2.1-py3-none-any.whl (160 kB)\n",
      "\u001b[K     |████████████████████████████████| 160 kB 58.7 MB/s eta 0:00:01\n",
      "\u001b[?25hRequirement already satisfied: preshed<3.1.0,>=3.0.2 in /home/user/anaconda3/envs/fastai/lib/python3.8/site-packages (from spacy==2.3.5->-r requirements.txt (line 12)) (3.0.2)\n",
      "Requirement already satisfied: murmurhash<1.1.0,>=0.28.0 in /home/user/anaconda3/envs/fastai/lib/python3.8/site-packages (from spacy==2.3.5->-r requirements.txt (line 12)) (1.0.2)\n",
      "Requirement already satisfied: wasabi<1.1.0,>=0.4.0 in /home/user/anaconda3/envs/fastai/lib/python3.8/site-packages (from spacy==2.3.5->-r requirements.txt (line 12)) (0.8.0)\n",
      "Requirement already satisfied: tqdm<5.0.0,>=4.38.0 in /home/user/anaconda3/envs/fastai/lib/python3.8/site-packages (from spacy==2.3.5->-r requirements.txt (line 12)) (4.48.2)\n",
      "Requirement already satisfied: cymem<2.1.0,>=2.0.2 in /home/user/anaconda3/envs/fastai/lib/python3.8/site-packages (from spacy==2.3.5->-r requirements.txt (line 12)) (2.0.3)\n",
      "Requirement already satisfied: thinc<7.5.0,>=7.4.1 in /home/user/anaconda3/envs/fastai/lib/python3.8/site-packages (from spacy==2.3.5->-r requirements.txt (line 12)) (7.4.1)\n",
      "Requirement already satisfied: srsly<1.1.0,>=1.0.2 in /home/user/anaconda3/envs/fastai/lib/python3.8/site-packages (from spacy==2.3.5->-r requirements.txt (line 12)) (1.0.2)\n",
      "Requirement already satisfied: blis<0.8.0,>=0.4.0 in /home/user/anaconda3/envs/fastai/lib/python3.8/site-packages (from spacy==2.3.5->-r requirements.txt (line 12)) (0.4.1)\n",
      "Requirement already satisfied: plac<1.2.0,>=0.9.6 in /home/user/anaconda3/envs/fastai/lib/python3.8/site-packages (from spacy==2.3.5->-r requirements.txt (line 12)) (0.9.6)\n",
      "Requirement already satisfied: catalogue<1.1.0,>=0.0.7 in /home/user/anaconda3/envs/fastai/lib/python3.8/site-packages (from spacy==2.3.5->-r requirements.txt (line 12)) (1.0.0)\n",
      "Requirement already satisfied: pyparsing!=2.0.4,!=2.1.2,!=2.1.6,>=2.0.3 in /home/user/anaconda3/envs/fastai/lib/python3.8/site-packages (from matplotlib->-r requirements.txt (line 14)) (2.4.7)\n",
      "Requirement already satisfied: python-dateutil>=2.1 in /home/user/anaconda3/envs/fastai/lib/python3.8/site-packages (from matplotlib->-r requirements.txt (line 14)) (2.8.1)\n",
      "Requirement already satisfied: pillow>=6.2.0 in /home/user/anaconda3/envs/fastai/lib/python3.8/site-packages (from matplotlib->-r requirements.txt (line 14)) (7.2.0)\n",
      "Requirement already satisfied: kiwisolver>=1.0.1 in /home/user/anaconda3/envs/fastai/lib/python3.8/site-packages (from matplotlib->-r requirements.txt (line 14)) (1.2.0)\n",
      "Requirement already satisfied: cycler>=0.10 in /home/user/anaconda3/envs/fastai/lib/python3.8/site-packages (from matplotlib->-r requirements.txt (line 14)) (0.10.0)\n",
      "Requirement already satisfied: certifi>=2020.06.20 in /home/user/anaconda3/envs/fastai/lib/python3.8/site-packages (from matplotlib->-r requirements.txt (line 14)) (2020.6.20)\n",
      "Requirement already satisfied: joblib>=0.11 in /home/user/anaconda3/envs/fastai/lib/python3.8/site-packages (from scikit-learn->-r requirements.txt (line 16)) (0.16.0)\n",
      "Requirement already satisfied: threadpoolctl>=2.0.0 in /home/user/anaconda3/envs/fastai/lib/python3.8/site-packages (from scikit-learn->-r requirements.txt (line 16)) (2.1.0)\n",
      "Requirement already satisfied: pytz>=2017.2 in /home/user/anaconda3/envs/fastai/lib/python3.8/site-packages (from pandas->-r requirements.txt (line 20)) (2020.1)\n",
      "Requirement already satisfied: MarkupSafe>=0.23 in /home/user/anaconda3/envs/fastai/lib/python3.8/site-packages (from Jinja2>=2.10.1->flask==1.1.2->-r requirements.txt (line 5)) (1.1.1)\n",
      "Requirement already satisfied: urllib3!=1.25.0,!=1.25.1,<1.26,>=1.21.1 in /home/user/anaconda3/envs/fastai/lib/python3.8/site-packages (from requests>=2.16.2->dropbox==11.2.0->-r requirements.txt (line 10)) (1.25.10)\n",
      "Requirement already satisfied: idna<3,>=2.5 in /home/user/anaconda3/envs/fastai/lib/python3.8/site-packages (from requests>=2.16.2->dropbox==11.2.0->-r requirements.txt (line 10)) (2.10)\n",
      "Requirement already satisfied: chardet<4,>=3.0.2 in /home/user/anaconda3/envs/fastai/lib/python3.8/site-packages (from requests>=2.16.2->dropbox==11.2.0->-r requirements.txt (line 10)) (3.0.4)\n",
      "Collecting ply>=3.4\n",
      "  Downloading ply-3.11-py2.py3-none-any.whl (49 kB)\n",
      "\u001b[K     |████████████████████████████████| 49 kB 4.5 MB/s  eta 0:00:01\n",
      "\u001b[?25hBuilding wheels for collected packages: wikiextractor, sklearn\n",
      "  Building wheel for wikiextractor (setup.py) ... \u001b[?25ldone\n",
      "\u001b[?25h  Created wheel for wikiextractor: filename=wikiextractor-0.1-py3-none-any.whl size=38819 sha256=b0d244a404f07979c92b8f51f13f7fe652ecab9aa741acf0ea61626b6c32fdda\n",
      "  Stored in directory: /home/user/.cache/pip/wheels/98/50/4b/5a06f4f998b52f6b828af95aa4e1b3efb784b3210c970bcaf3\n",
      "  Building wheel for sklearn (setup.py) ... \u001b[?25ldone\n",
      "\u001b[?25h  Created wheel for sklearn: filename=sklearn-0.0-py2.py3-none-any.whl size=1316 sha256=36fa33b7d06241ad7c8b223797a5942256aab9a78cb69dbb8e0ee9868ac36aeb\n",
      "  Stored in directory: /home/user/.cache/pip/wheels/22/0b/40/fd3f795caaa1fb4c6cb738bc1f56100be1e57da95849bfc897\n",
      "Successfully built wikiextractor sklearn\n",
      "Installing collected packages: wikiextractor, sentencepiece, ninja, emoji, itsdangerous, click, Werkzeug, flask, gunicorn, python-dotenv, ply, stone, dropbox, dataclasses, spacy, scipy, sklearn\n",
      "  Attempting uninstall: sentencepiece\n",
      "    Found existing installation: sentencepiece 0.1.86\n",
      "    Uninstalling sentencepiece-0.1.86:\n",
      "      Successfully uninstalled sentencepiece-0.1.86\n",
      "  Attempting uninstall: spacy\n",
      "    Found existing installation: spacy 2.3.2\n",
      "    Uninstalling spacy-2.3.2:\n",
      "      Successfully uninstalled spacy-2.3.2\n",
      "  Attempting uninstall: scipy\n",
      "    Found existing installation: scipy 1.5.2\n",
      "    Uninstalling scipy-1.5.2:\n",
      "      Successfully uninstalled scipy-1.5.2\n",
      "\u001b[31mERROR: After October 2020 you may experience errors when installing or updating packages. This is because pip will change the way that it resolves dependency conflicts.\n",
      "\n",
      "We recommend you use --use-feature=2020-resolver to test your packages with the new resolver before it becomes the default.\n",
      "\n",
      "fastbook 0.0.11 requires sentencepiece<0.1.90, but you'll have sentencepiece 0.1.95 which is incompatible.\u001b[0m\n",
      "Successfully installed Werkzeug-1.0.1 click-7.1.2 dataclasses-0.6 dropbox-11.2.0 emoji-1.2.0 flask-1.1.2 gunicorn-20.0.4 itsdangerous-1.1.0 ninja-1.10.0 ply-3.11 python-dotenv-0.15.0 scipy-1.6.1 sentencepiece-0.1.95 sklearn-0.0 spacy-2.3.5 stone-3.2.1 wikiextractor-0.1\n"
     ]
    }
   ],
   "source": [
    "!cd AdaptTextLib && pip install -r requirements.txt"
   ]
  },
  {
   "cell_type": "code",
   "execution_count": 8,
   "id": "understanding-controversy",
   "metadata": {},
   "outputs": [],
   "source": [
    "from AdaptTextLib.adapttext.adapt_text import AdaptText\n",
    "\n",
    "lang = 'si'\n",
    "app_root = \"/storage\"\n",
    "bs = 128\n",
    "splitting_ratio = 0.1\n",
    "adapttext = AdaptText(lang, app_root, bs, splitting_ratio)"
   ]
  },
  {
   "cell_type": "code",
   "execution_count": 9,
   "id": "ideal-handle",
   "metadata": {},
   "outputs": [],
   "source": [
    "adapttext.prepare_pretrained_lm(\"full_si_dedup.zip\")"
   ]
  },
  {
   "cell_type": "code",
   "execution_count": 10,
   "id": "closed-least",
   "metadata": {},
   "outputs": [
    {
     "name": "stdout",
     "output_type": "stream",
     "text": [
      "1    3455\n",
      "0    2890\n",
      "Name: label, dtype: int64\n"
     ]
    },
    {
     "data": {
      "text/html": [],
      "text/plain": [
       "<IPython.core.display.HTML object>"
      ]
     },
     "metadata": {},
     "output_type": "display_data"
    },
    {
     "data": {
      "text/html": [],
      "text/plain": [
       "<IPython.core.display.HTML object>"
      ]
     },
     "metadata": {},
     "output_type": "display_data"
    },
    {
     "data": {
      "text/html": [],
      "text/plain": [
       "<IPython.core.display.HTML object>"
      ]
     },
     "metadata": {},
     "output_type": "display_data"
    },
    {
     "data": {
      "text/html": [],
      "text/plain": [
       "<IPython.core.display.HTML object>"
      ]
     },
     "metadata": {},
     "output_type": "display_data"
    },
    {
     "name": "stdout",
     "output_type": "stream",
     "text": [
      "1    3109\n",
      "0    2601\n",
      "Name: label, dtype: int64\n"
     ]
    },
    {
     "data": {
      "text/html": [],
      "text/plain": [
       "<IPython.core.display.HTML object>"
      ]
     },
     "metadata": {},
     "output_type": "display_data"
    },
    {
     "data": {
      "text/html": [],
      "text/plain": [
       "<IPython.core.display.HTML object>"
      ]
     },
     "metadata": {},
     "output_type": "display_data"
    },
    {
     "name": "stdout",
     "output_type": "stream",
     "text": [
      "1    3109\n",
      "0    2601\n",
      "Name: label, dtype: int64\n"
     ]
    },
    {
     "data": {
      "text/html": [],
      "text/plain": [
       "<IPython.core.display.HTML object>"
      ]
     },
     "metadata": {},
     "output_type": "display_data"
    },
    {
     "data": {
      "text/html": [],
      "text/plain": [
       "<IPython.core.display.HTML object>"
      ]
     },
     "metadata": {},
     "output_type": "display_data"
    },
    {
     "name": "stdout",
     "output_type": "stream",
     "text": [
      "Training Forward model...\n",
      "[PosixPath('/storage/data/siwiki/models/si_wt'), PosixPath('/storage/data/siwiki/models/si_wt_vocab')]\n"
     ]
    },
    {
     "data": {
      "text/html": [
       "\n",
       "    <div>\n",
       "        <style>\n",
       "            /* Turns off some styling */\n",
       "            progress {\n",
       "                /* gets rid of default border in Firefox and Opera. */\n",
       "                border: none;\n",
       "                /* Needs to be in here for Safari polyfill so background images work as expected. */\n",
       "                background-size: auto;\n",
       "            }\n",
       "            .progress-bar-interrupted, .progress-bar-interrupted::-webkit-progress-bar {\n",
       "                background: #F44336;\n",
       "            }\n",
       "        </style>\n",
       "      <progress value='5' class='' max='6' style='width:300px; height:20px; vertical-align: middle;'></progress>\n",
       "      83.33% [5/6 00:11<00:02]\n",
       "    </div>\n",
       "    \n",
       "<table border=\"1\" class=\"dataframe\">\n",
       "  <thead>\n",
       "    <tr style=\"text-align: left;\">\n",
       "      <th>epoch</th>\n",
       "      <th>train_loss</th>\n",
       "      <th>valid_loss</th>\n",
       "      <th>error_rate</th>\n",
       "      <th>accuracy</th>\n",
       "      <th>perplexity</th>\n",
       "      <th>time</th>\n",
       "    </tr>\n",
       "  </thead>\n",
       "  <tbody>\n",
       "    <tr>\n",
       "      <td>0</td>\n",
       "      <td>7.012209</td>\n",
       "      <td>#na#</td>\n",
       "      <td>00:02</td>\n",
       "    </tr>\n",
       "    <tr>\n",
       "      <td>1</td>\n",
       "      <td>7.007709</td>\n",
       "      <td>#na#</td>\n",
       "      <td>00:02</td>\n",
       "    </tr>\n",
       "    <tr>\n",
       "      <td>2</td>\n",
       "      <td>7.002526</td>\n",
       "      <td>#na#</td>\n",
       "      <td>00:02</td>\n",
       "    </tr>\n",
       "    <tr>\n",
       "      <td>3</td>\n",
       "      <td>6.858953</td>\n",
       "      <td>#na#</td>\n",
       "      <td>00:02</td>\n",
       "    </tr>\n",
       "    <tr>\n",
       "      <td>4</td>\n",
       "      <td>6.500634</td>\n",
       "      <td>#na#</td>\n",
       "      <td>00:02</td>\n",
       "    </tr>\n",
       "  </tbody>\n",
       "</table><p>\n",
       "\n",
       "    <div>\n",
       "        <style>\n",
       "            /* Turns off some styling */\n",
       "            progress {\n",
       "                /* gets rid of default border in Firefox and Opera. */\n",
       "                border: none;\n",
       "                /* Needs to be in here for Safari polyfill so background images work as expected. */\n",
       "                background-size: auto;\n",
       "            }\n",
       "            .progress-bar-interrupted, .progress-bar-interrupted::-webkit-progress-bar {\n",
       "                background: #F44336;\n",
       "            }\n",
       "        </style>\n",
       "      <progress value='14' class='' max='17' style='width:300px; height:20px; vertical-align: middle;'></progress>\n",
       "      82.35% [14/17 00:01<00:00 13.0501]\n",
       "    </div>\n",
       "    "
      ],
      "text/plain": [
       "<IPython.core.display.HTML object>"
      ]
     },
     "metadata": {},
     "output_type": "display_data"
    },
    {
     "name": "stdout",
     "output_type": "stream",
     "text": [
      "LR Finder is complete, type {learner_name}.recorder.plot() to see the graph.\n",
      "Min numerical gradient: 4.79E-02\n",
      "Min loss divided by 10: 4.37E-02\n"
     ]
    },
    {
     "data": {
      "text/html": [
       "<table border=\"1\" class=\"dataframe\">\n",
       "  <thead>\n",
       "    <tr style=\"text-align: left;\">\n",
       "      <th>epoch</th>\n",
       "      <th>train_loss</th>\n",
       "      <th>valid_loss</th>\n",
       "      <th>error_rate</th>\n",
       "      <th>accuracy</th>\n",
       "      <th>perplexity</th>\n",
       "      <th>time</th>\n",
       "    </tr>\n",
       "  </thead>\n",
       "  <tbody>\n",
       "    <tr>\n",
       "      <td>0</td>\n",
       "      <td>6.298058</td>\n",
       "      <td>5.018819</td>\n",
       "      <td>0.739397</td>\n",
       "      <td>0.260603</td>\n",
       "      <td>151.232574</td>\n",
       "      <td>00:02</td>\n",
       "    </tr>\n",
       "    <tr>\n",
       "      <td>1</td>\n",
       "      <td>5.563293</td>\n",
       "      <td>4.927432</td>\n",
       "      <td>0.733147</td>\n",
       "      <td>0.266853</td>\n",
       "      <td>138.024612</td>\n",
       "      <td>00:02</td>\n",
       "    </tr>\n",
       "  </tbody>\n",
       "</table>"
      ],
      "text/plain": [
       "<IPython.core.display.HTML object>"
      ]
     },
     "metadata": {},
     "output_type": "display_data"
    },
    {
     "name": "stdout",
     "output_type": "stream",
     "text": [
      "Better model found at epoch 0 with valid_loss value: 5.0188188552856445.\n",
      "Better model found at epoch 1 with valid_loss value: 4.927432060241699.\n"
     ]
    },
    {
     "data": {
      "text/html": [
       "<table border=\"1\" class=\"dataframe\">\n",
       "  <thead>\n",
       "    <tr style=\"text-align: left;\">\n",
       "      <th>epoch</th>\n",
       "      <th>train_loss</th>\n",
       "      <th>valid_loss</th>\n",
       "      <th>error_rate</th>\n",
       "      <th>accuracy</th>\n",
       "      <th>perplexity</th>\n",
       "      <th>time</th>\n",
       "    </tr>\n",
       "  </thead>\n",
       "  <tbody>\n",
       "    <tr>\n",
       "      <td>0</td>\n",
       "      <td>4.686276</td>\n",
       "      <td>5.074687</td>\n",
       "      <td>0.775335</td>\n",
       "      <td>0.224665</td>\n",
       "      <td>159.922134</td>\n",
       "      <td>00:02</td>\n",
       "    </tr>\n",
       "    <tr>\n",
       "      <td>1</td>\n",
       "      <td>4.676050</td>\n",
       "      <td>5.066071</td>\n",
       "      <td>0.760603</td>\n",
       "      <td>0.239397</td>\n",
       "      <td>158.550095</td>\n",
       "      <td>00:03</td>\n",
       "    </tr>\n",
       "    <tr>\n",
       "      <td>2</td>\n",
       "      <td>4.662347</td>\n",
       "      <td>5.005523</td>\n",
       "      <td>0.733705</td>\n",
       "      <td>0.266295</td>\n",
       "      <td>149.235001</td>\n",
       "      <td>00:03</td>\n",
       "    </tr>\n",
       "    <tr>\n",
       "      <td>3</td>\n",
       "      <td>4.583145</td>\n",
       "      <td>5.071879</td>\n",
       "      <td>0.735156</td>\n",
       "      <td>0.264844</td>\n",
       "      <td>159.473679</td>\n",
       "      <td>00:02</td>\n",
       "    </tr>\n",
       "    <tr>\n",
       "      <td>4</td>\n",
       "      <td>4.433052</td>\n",
       "      <td>5.090100</td>\n",
       "      <td>0.738393</td>\n",
       "      <td>0.261607</td>\n",
       "      <td>162.406235</td>\n",
       "      <td>00:02</td>\n",
       "    </tr>\n",
       "    <tr>\n",
       "      <td>5</td>\n",
       "      <td>4.164272</td>\n",
       "      <td>5.245975</td>\n",
       "      <td>0.745871</td>\n",
       "      <td>0.254129</td>\n",
       "      <td>189.800781</td>\n",
       "      <td>00:02</td>\n",
       "    </tr>\n",
       "    <tr>\n",
       "      <td>6</td>\n",
       "      <td>3.822502</td>\n",
       "      <td>5.334682</td>\n",
       "      <td>0.752790</td>\n",
       "      <td>0.247210</td>\n",
       "      <td>207.406982</td>\n",
       "      <td>00:02</td>\n",
       "    </tr>\n",
       "    <tr>\n",
       "      <td>7</td>\n",
       "      <td>3.493891</td>\n",
       "      <td>5.393963</td>\n",
       "      <td>0.754018</td>\n",
       "      <td>0.245982</td>\n",
       "      <td>220.073776</td>\n",
       "      <td>00:02</td>\n",
       "    </tr>\n",
       "  </tbody>\n",
       "</table>"
      ],
      "text/plain": [
       "<IPython.core.display.HTML object>"
      ]
     },
     "metadata": {},
     "output_type": "display_data"
    },
    {
     "name": "stdout",
     "output_type": "stream",
     "text": [
      "Better model found at epoch 0 with valid_loss value: 5.0746870040893555.\n",
      "Better model found at epoch 1 with valid_loss value: 5.066070556640625.\n",
      "Better model found at epoch 2 with valid_loss value: 5.005522727966309.\n",
      "Epoch 3: reducing lr to 0.03080009521303026\n",
      "Epoch 4: reducing lr to 0.021021830884493373\n",
      "Epoch 5: reducing lr to 0.010677607079237388\n",
      "Epoch 6: reducing lr to 0.0028871965645291793\n"
     ]
    },
    {
     "data": {
      "text/html": [
       "\n",
       "    <div>\n",
       "        <style>\n",
       "            /* Turns off some styling */\n",
       "            progress {\n",
       "                /* gets rid of default border in Firefox and Opera. */\n",
       "                border: none;\n",
       "                /* Needs to be in here for Safari polyfill so background images work as expected. */\n",
       "                background-size: auto;\n",
       "            }\n",
       "            .progress-bar-interrupted, .progress-bar-interrupted::-webkit-progress-bar {\n",
       "                background: #F44336;\n",
       "            }\n",
       "        </style>\n",
       "      <progress value='0' class='' max='1' style='width:300px; height:20px; vertical-align: middle;'></progress>\n",
       "      0.00% [0/1 00:00<00:00]\n",
       "    </div>\n",
       "    \n",
       "<table border=\"1\" class=\"dataframe\">\n",
       "  <thead>\n",
       "    <tr style=\"text-align: left;\">\n",
       "      <th>epoch</th>\n",
       "      <th>train_loss</th>\n",
       "      <th>valid_loss</th>\n",
       "      <th>accuracy</th>\n",
       "      <th>time</th>\n",
       "    </tr>\n",
       "  </thead>\n",
       "  <tbody>\n",
       "  </tbody>\n",
       "</table><p>\n",
       "\n",
       "    <div>\n",
       "        <style>\n",
       "            /* Turns off some styling */\n",
       "            progress {\n",
       "                /* gets rid of default border in Firefox and Opera. */\n",
       "                border: none;\n",
       "                /* Needs to be in here for Safari polyfill so background images work as expected. */\n",
       "                background-size: auto;\n",
       "            }\n",
       "            .progress-bar-interrupted, .progress-bar-interrupted::-webkit-progress-bar {\n",
       "                background: #F44336;\n",
       "            }\n",
       "        </style>\n",
       "      <progress value='96' class='' max='178' style='width:300px; height:20px; vertical-align: middle;'></progress>\n",
       "      53.93% [96/178 00:01<00:01 1.0394]\n",
       "    </div>\n",
       "    "
      ],
      "text/plain": [
       "<IPython.core.display.HTML object>"
      ]
     },
     "metadata": {},
     "output_type": "display_data"
    },
    {
     "name": "stdout",
     "output_type": "stream",
     "text": [
      "LR Finder is complete, type {learner_name}.recorder.plot() to see the graph.\n",
      "Min numerical gradient: 4.37E-03\n",
      "Min loss divided by 10: 3.02E-02\n"
     ]
    },
    {
     "data": {
      "text/html": [
       "<table border=\"1\" class=\"dataframe\">\n",
       "  <thead>\n",
       "    <tr style=\"text-align: left;\">\n",
       "      <th>epoch</th>\n",
       "      <th>train_loss</th>\n",
       "      <th>valid_loss</th>\n",
       "      <th>accuracy</th>\n",
       "      <th>time</th>\n",
       "    </tr>\n",
       "  </thead>\n",
       "  <tbody>\n",
       "    <tr>\n",
       "      <td>0</td>\n",
       "      <td>0.424830</td>\n",
       "      <td>0.401754</td>\n",
       "      <td>0.809449</td>\n",
       "      <td>00:03</td>\n",
       "    </tr>\n",
       "    <tr>\n",
       "      <td>1</td>\n",
       "      <td>0.382057</td>\n",
       "      <td>0.405068</td>\n",
       "      <td>0.803150</td>\n",
       "      <td>00:03</td>\n",
       "    </tr>\n",
       "    <tr>\n",
       "      <td>2</td>\n",
       "      <td>0.351442</td>\n",
       "      <td>0.419839</td>\n",
       "      <td>0.820472</td>\n",
       "      <td>00:03</td>\n",
       "    </tr>\n",
       "    <tr>\n",
       "      <td>3</td>\n",
       "      <td>0.353804</td>\n",
       "      <td>0.408783</td>\n",
       "      <td>0.804724</td>\n",
       "      <td>00:03</td>\n",
       "    </tr>\n",
       "    <tr>\n",
       "      <td>4</td>\n",
       "      <td>0.332859</td>\n",
       "      <td>0.408762</td>\n",
       "      <td>0.795276</td>\n",
       "      <td>00:03</td>\n",
       "    </tr>\n",
       "    <tr>\n",
       "      <td>5</td>\n",
       "      <td>0.315386</td>\n",
       "      <td>0.434815</td>\n",
       "      <td>0.817323</td>\n",
       "      <td>00:03</td>\n",
       "    </tr>\n",
       "    <tr>\n",
       "      <td>6</td>\n",
       "      <td>0.291265</td>\n",
       "      <td>0.434937</td>\n",
       "      <td>0.800000</td>\n",
       "      <td>00:03</td>\n",
       "    </tr>\n",
       "    <tr>\n",
       "      <td>7</td>\n",
       "      <td>0.272877</td>\n",
       "      <td>0.446907</td>\n",
       "      <td>0.804724</td>\n",
       "      <td>00:03</td>\n",
       "    </tr>\n",
       "    <tr>\n",
       "      <td>8</td>\n",
       "      <td>0.251729</td>\n",
       "      <td>0.443005</td>\n",
       "      <td>0.815748</td>\n",
       "      <td>00:03</td>\n",
       "    </tr>\n",
       "    <tr>\n",
       "      <td>9</td>\n",
       "      <td>0.241589</td>\n",
       "      <td>0.440078</td>\n",
       "      <td>0.818898</td>\n",
       "      <td>00:03</td>\n",
       "    </tr>\n",
       "    <tr>\n",
       "      <td>10</td>\n",
       "      <td>0.230985</td>\n",
       "      <td>0.460239</td>\n",
       "      <td>0.798425</td>\n",
       "      <td>00:03</td>\n",
       "    </tr>\n",
       "    <tr>\n",
       "      <td>11</td>\n",
       "      <td>0.235108</td>\n",
       "      <td>0.462613</td>\n",
       "      <td>0.815748</td>\n",
       "      <td>00:03</td>\n",
       "    </tr>\n",
       "  </tbody>\n",
       "</table>"
      ],
      "text/plain": [
       "<IPython.core.display.HTML object>"
      ]
     },
     "metadata": {},
     "output_type": "display_data"
    },
    {
     "name": "stdout",
     "output_type": "stream",
     "text": [
      "Better model found at epoch 0 with valid_loss value: 0.4017542004585266.\n",
      "Epoch 1: reducing lr to 0.0021105792423697254\n",
      "Epoch 2: reducing lr to 0.0032702905856021934\n",
      "Epoch 3: reducing lr to 0.003472206064447972\n",
      "Epoch 4: reducing lr to 0.003256975746106231\n",
      "Epoch 5: reducing lr to 0.0028330797118260084\n",
      "Epoch 6: reducing lr to 0.0022590607185204495\n",
      "Epoch 7: reducing lr to 0.0016141944651134176\n",
      "Epoch 8: reducing lr to 0.0009875411108460905\n"
     ]
    },
    {
     "data": {
      "text/html": [],
      "text/plain": [
       "<IPython.core.display.HTML object>"
      ]
     },
     "metadata": {},
     "output_type": "display_data"
    },
    {
     "name": "stdout",
     "output_type": "stream",
     "text": [
      "The accuracy is 0.8094488382339478 %.\n",
      "Gradual Unfreezing..\n"
     ]
    },
    {
     "data": {
      "text/html": [
       "<table border=\"1\" class=\"dataframe\">\n",
       "  <thead>\n",
       "    <tr style=\"text-align: left;\">\n",
       "      <th>epoch</th>\n",
       "      <th>train_loss</th>\n",
       "      <th>valid_loss</th>\n",
       "      <th>accuracy</th>\n",
       "      <th>time</th>\n",
       "    </tr>\n",
       "  </thead>\n",
       "  <tbody>\n",
       "    <tr>\n",
       "      <td>0</td>\n",
       "      <td>0.394417</td>\n",
       "      <td>0.418814</td>\n",
       "      <td>0.787402</td>\n",
       "      <td>00:04</td>\n",
       "    </tr>\n",
       "    <tr>\n",
       "      <td>1</td>\n",
       "      <td>0.351194</td>\n",
       "      <td>0.381682</td>\n",
       "      <td>0.812598</td>\n",
       "      <td>00:04</td>\n",
       "    </tr>\n",
       "    <tr>\n",
       "      <td>2</td>\n",
       "      <td>0.287598</td>\n",
       "      <td>0.413068</td>\n",
       "      <td>0.804724</td>\n",
       "      <td>00:04</td>\n",
       "    </tr>\n",
       "    <tr>\n",
       "      <td>3</td>\n",
       "      <td>0.259402</td>\n",
       "      <td>0.393328</td>\n",
       "      <td>0.823622</td>\n",
       "      <td>00:04</td>\n",
       "    </tr>\n",
       "    <tr>\n",
       "      <td>4</td>\n",
       "      <td>0.189217</td>\n",
       "      <td>0.477358</td>\n",
       "      <td>0.809449</td>\n",
       "      <td>00:04</td>\n",
       "    </tr>\n",
       "    <tr>\n",
       "      <td>5</td>\n",
       "      <td>0.144017</td>\n",
       "      <td>0.465037</td>\n",
       "      <td>0.825197</td>\n",
       "      <td>00:04</td>\n",
       "    </tr>\n",
       "    <tr>\n",
       "      <td>6</td>\n",
       "      <td>0.105053</td>\n",
       "      <td>0.474144</td>\n",
       "      <td>0.817323</td>\n",
       "      <td>00:04</td>\n",
       "    </tr>\n",
       "    <tr>\n",
       "      <td>7</td>\n",
       "      <td>0.101106</td>\n",
       "      <td>0.468126</td>\n",
       "      <td>0.817323</td>\n",
       "      <td>00:04</td>\n",
       "    </tr>\n",
       "  </tbody>\n",
       "</table>"
      ],
      "text/plain": [
       "<IPython.core.display.HTML object>"
      ]
     },
     "metadata": {},
     "output_type": "display_data"
    },
    {
     "name": "stdout",
     "output_type": "stream",
     "text": [
      "Better model found at epoch 0 with valid_loss value: 0.41881367564201355.\n",
      "Better model found at epoch 1 with valid_loss value: 0.38168156147003174.\n",
      "Epoch 2: reducing lr to 0.0033938190363893015\n",
      "Epoch 3: reducing lr to 0.0028341040185650146\n",
      "Epoch 4: reducing lr to 0.0019409808028925946\n",
      "Epoch 5: reducing lr to 0.0009881308022999609\n"
     ]
    },
    {
     "data": {
      "text/html": [
       "<table border=\"1\" class=\"dataframe\">\n",
       "  <thead>\n",
       "    <tr style=\"text-align: left;\">\n",
       "      <th>epoch</th>\n",
       "      <th>train_loss</th>\n",
       "      <th>valid_loss</th>\n",
       "      <th>accuracy</th>\n",
       "      <th>time</th>\n",
       "    </tr>\n",
       "  </thead>\n",
       "  <tbody>\n",
       "    <tr>\n",
       "      <td>0</td>\n",
       "      <td>0.281408</td>\n",
       "      <td>0.426069</td>\n",
       "      <td>0.812598</td>\n",
       "      <td>00:05</td>\n",
       "    </tr>\n",
       "    <tr>\n",
       "      <td>1</td>\n",
       "      <td>0.266862</td>\n",
       "      <td>0.380956</td>\n",
       "      <td>0.822047</td>\n",
       "      <td>00:05</td>\n",
       "    </tr>\n",
       "    <tr>\n",
       "      <td>2</td>\n",
       "      <td>0.182571</td>\n",
       "      <td>0.480779</td>\n",
       "      <td>0.807874</td>\n",
       "      <td>00:05</td>\n",
       "    </tr>\n",
       "    <tr>\n",
       "      <td>3</td>\n",
       "      <td>0.104034</td>\n",
       "      <td>0.580868</td>\n",
       "      <td>0.807874</td>\n",
       "      <td>00:05</td>\n",
       "    </tr>\n",
       "    <tr>\n",
       "      <td>4</td>\n",
       "      <td>0.064713</td>\n",
       "      <td>0.558377</td>\n",
       "      <td>0.818898</td>\n",
       "      <td>00:05</td>\n",
       "    </tr>\n",
       "    <tr>\n",
       "      <td>5</td>\n",
       "      <td>0.040238</td>\n",
       "      <td>0.547875</td>\n",
       "      <td>0.826772</td>\n",
       "      <td>00:05</td>\n",
       "    </tr>\n",
       "  </tbody>\n",
       "</table>"
      ],
      "text/plain": [
       "<IPython.core.display.HTML object>"
      ]
     },
     "metadata": {},
     "output_type": "display_data"
    },
    {
     "name": "stdout",
     "output_type": "stream",
     "text": [
      "Better model found at epoch 0 with valid_loss value: 0.42606884241104126.\n",
      "Better model found at epoch 1 with valid_loss value: 0.3809557259082794.\n",
      "Epoch 2: reducing lr to 0.0028330797118260084\n",
      "Epoch 3: reducing lr to 0.0016141944651134176\n",
      "Completely Unfreezing..\n"
     ]
    },
    {
     "data": {
      "text/html": [
       "\n",
       "    <div>\n",
       "        <style>\n",
       "            /* Turns off some styling */\n",
       "            progress {\n",
       "                /* gets rid of default border in Firefox and Opera. */\n",
       "                border: none;\n",
       "                /* Needs to be in here for Safari polyfill so background images work as expected. */\n",
       "                background-size: auto;\n",
       "            }\n",
       "            .progress-bar-interrupted, .progress-bar-interrupted::-webkit-progress-bar {\n",
       "                background: #F44336;\n",
       "            }\n",
       "        </style>\n",
       "      <progress value='0' class='' max='1' style='width:300px; height:20px; vertical-align: middle;'></progress>\n",
       "      0.00% [0/1 00:00<00:00]\n",
       "    </div>\n",
       "    \n",
       "<table border=\"1\" class=\"dataframe\">\n",
       "  <thead>\n",
       "    <tr style=\"text-align: left;\">\n",
       "      <th>epoch</th>\n",
       "      <th>train_loss</th>\n",
       "      <th>valid_loss</th>\n",
       "      <th>accuracy</th>\n",
       "      <th>time</th>\n",
       "    </tr>\n",
       "  </thead>\n",
       "  <tbody>\n",
       "  </tbody>\n",
       "</table><p>\n",
       "\n",
       "    <div>\n",
       "        <style>\n",
       "            /* Turns off some styling */\n",
       "            progress {\n",
       "                /* gets rid of default border in Firefox and Opera. */\n",
       "                border: none;\n",
       "                /* Needs to be in here for Safari polyfill so background images work as expected. */\n",
       "                background-size: auto;\n",
       "            }\n",
       "            .progress-bar-interrupted, .progress-bar-interrupted::-webkit-progress-bar {\n",
       "                background: #F44336;\n",
       "            }\n",
       "        </style>\n",
       "      <progress value='91' class='' max='178' style='width:300px; height:20px; vertical-align: middle;'></progress>\n",
       "      51.12% [91/178 00:03<00:03 0.5548]\n",
       "    </div>\n",
       "    "
      ],
      "text/plain": [
       "<IPython.core.display.HTML object>"
      ]
     },
     "metadata": {},
     "output_type": "display_data"
    },
    {
     "name": "stdout",
     "output_type": "stream",
     "text": [
      "LR Finder is complete, type {learner_name}.recorder.plot() to see the graph.\n",
      "Min numerical gradient: 1.10E-06\n",
      "Min loss divided by 10: 1.10E-05\n"
     ]
    },
    {
     "data": {
      "text/html": [
       "<table border=\"1\" class=\"dataframe\">\n",
       "  <thead>\n",
       "    <tr style=\"text-align: left;\">\n",
       "      <th>epoch</th>\n",
       "      <th>train_loss</th>\n",
       "      <th>valid_loss</th>\n",
       "      <th>accuracy</th>\n",
       "      <th>time</th>\n",
       "    </tr>\n",
       "  </thead>\n",
       "  <tbody>\n",
       "    <tr>\n",
       "      <td>0</td>\n",
       "      <td>0.167482</td>\n",
       "      <td>0.368395</td>\n",
       "      <td>0.822047</td>\n",
       "      <td>00:07</td>\n",
       "    </tr>\n",
       "    <tr>\n",
       "      <td>1</td>\n",
       "      <td>0.178801</td>\n",
       "      <td>0.380156</td>\n",
       "      <td>0.817323</td>\n",
       "      <td>00:08</td>\n",
       "    </tr>\n",
       "    <tr>\n",
       "      <td>2</td>\n",
       "      <td>0.169548</td>\n",
       "      <td>0.370595</td>\n",
       "      <td>0.822047</td>\n",
       "      <td>00:07</td>\n",
       "    </tr>\n",
       "    <tr>\n",
       "      <td>3</td>\n",
       "      <td>0.166792</td>\n",
       "      <td>0.372740</td>\n",
       "      <td>0.818898</td>\n",
       "      <td>00:08</td>\n",
       "    </tr>\n",
       "    <tr>\n",
       "      <td>4</td>\n",
       "      <td>0.166314</td>\n",
       "      <td>0.373788</td>\n",
       "      <td>0.818898</td>\n",
       "      <td>00:07</td>\n",
       "    </tr>\n",
       "    <tr>\n",
       "      <td>5</td>\n",
       "      <td>0.172834</td>\n",
       "      <td>0.374049</td>\n",
       "      <td>0.818898</td>\n",
       "      <td>00:08</td>\n",
       "    </tr>\n",
       "  </tbody>\n",
       "</table>"
      ],
      "text/plain": [
       "<IPython.core.display.HTML object>"
      ]
     },
     "metadata": {},
     "output_type": "display_data"
    },
    {
     "name": "stdout",
     "output_type": "stream",
     "text": [
      "Better model found at epoch 0 with valid_loss value: 0.36839503049850464.\n"
     ]
    },
    {
     "data": {
      "text/html": [
       "<table border=\"1\" class=\"dataframe\">\n",
       "  <thead>\n",
       "    <tr style=\"text-align: left;\">\n",
       "      <th>epoch</th>\n",
       "      <th>train_loss</th>\n",
       "      <th>valid_loss</th>\n",
       "      <th>accuracy</th>\n",
       "      <th>time</th>\n",
       "    </tr>\n",
       "  </thead>\n",
       "  <tbody>\n",
       "    <tr>\n",
       "      <td>0</td>\n",
       "      <td>0.179194</td>\n",
       "      <td>0.374588</td>\n",
       "      <td>0.818898</td>\n",
       "      <td>00:08</td>\n",
       "    </tr>\n",
       "    <tr>\n",
       "      <td>1</td>\n",
       "      <td>0.165299</td>\n",
       "      <td>0.369836</td>\n",
       "      <td>0.822047</td>\n",
       "      <td>00:08</td>\n",
       "    </tr>\n",
       "    <tr>\n",
       "      <td>2</td>\n",
       "      <td>0.170310</td>\n",
       "      <td>0.379078</td>\n",
       "      <td>0.820472</td>\n",
       "      <td>00:08</td>\n",
       "    </tr>\n",
       "    <tr>\n",
       "      <td>3</td>\n",
       "      <td>0.168624</td>\n",
       "      <td>0.376877</td>\n",
       "      <td>0.818898</td>\n",
       "      <td>00:08</td>\n",
       "    </tr>\n",
       "    <tr>\n",
       "      <td>4</td>\n",
       "      <td>0.169017</td>\n",
       "      <td>0.368352</td>\n",
       "      <td>0.822047</td>\n",
       "      <td>00:08</td>\n",
       "    </tr>\n",
       "    <tr>\n",
       "      <td>5</td>\n",
       "      <td>0.179931</td>\n",
       "      <td>0.371674</td>\n",
       "      <td>0.817323</td>\n",
       "      <td>00:07</td>\n",
       "    </tr>\n",
       "  </tbody>\n",
       "</table>"
      ],
      "text/plain": [
       "<IPython.core.display.HTML object>"
      ]
     },
     "metadata": {},
     "output_type": "display_data"
    },
    {
     "name": "stdout",
     "output_type": "stream",
     "text": [
      "Better model found at epoch 0 with valid_loss value: 0.37458813190460205.\n",
      "Better model found at epoch 1 with valid_loss value: 0.369835764169693.\n",
      "Better model found at epoch 4 with valid_loss value: 0.3683520257472992.\n"
     ]
    },
    {
     "data": {
      "text/html": [],
      "text/plain": [
       "<IPython.core.display.HTML object>"
      ]
     },
     "metadata": {},
     "output_type": "display_data"
    },
    {
     "name": "stdout",
     "output_type": "stream",
     "text": [
      "The accuracy is 0.822047233581543 %.\n",
      "Training Backward model...\n",
      "[PosixPath('/storage/data/siwiki/models/si_wt_bwd'), PosixPath('/storage/data/siwiki/models/si_wt_vocab_bwd')]\n"
     ]
    },
    {
     "data": {
      "text/html": [
       "\n",
       "    <div>\n",
       "        <style>\n",
       "            /* Turns off some styling */\n",
       "            progress {\n",
       "                /* gets rid of default border in Firefox and Opera. */\n",
       "                border: none;\n",
       "                /* Needs to be in here for Safari polyfill so background images work as expected. */\n",
       "                background-size: auto;\n",
       "            }\n",
       "            .progress-bar-interrupted, .progress-bar-interrupted::-webkit-progress-bar {\n",
       "                background: #F44336;\n",
       "            }\n",
       "        </style>\n",
       "      <progress value='5' class='' max='6' style='width:300px; height:20px; vertical-align: middle;'></progress>\n",
       "      83.33% [5/6 00:10<00:02]\n",
       "    </div>\n",
       "    \n",
       "<table border=\"1\" class=\"dataframe\">\n",
       "  <thead>\n",
       "    <tr style=\"text-align: left;\">\n",
       "      <th>epoch</th>\n",
       "      <th>train_loss</th>\n",
       "      <th>valid_loss</th>\n",
       "      <th>error_rate</th>\n",
       "      <th>accuracy</th>\n",
       "      <th>perplexity</th>\n",
       "      <th>time</th>\n",
       "    </tr>\n",
       "  </thead>\n",
       "  <tbody>\n",
       "    <tr>\n",
       "      <td>0</td>\n",
       "      <td>6.944908</td>\n",
       "      <td>#na#</td>\n",
       "      <td>00:02</td>\n",
       "    </tr>\n",
       "    <tr>\n",
       "      <td>1</td>\n",
       "      <td>6.939198</td>\n",
       "      <td>#na#</td>\n",
       "      <td>00:02</td>\n",
       "    </tr>\n",
       "    <tr>\n",
       "      <td>2</td>\n",
       "      <td>6.922678</td>\n",
       "      <td>#na#</td>\n",
       "      <td>00:01</td>\n",
       "    </tr>\n",
       "    <tr>\n",
       "      <td>3</td>\n",
       "      <td>6.762938</td>\n",
       "      <td>#na#</td>\n",
       "      <td>00:01</td>\n",
       "    </tr>\n",
       "    <tr>\n",
       "      <td>4</td>\n",
       "      <td>6.438149</td>\n",
       "      <td>#na#</td>\n",
       "      <td>00:01</td>\n",
       "    </tr>\n",
       "  </tbody>\n",
       "</table><p>\n",
       "\n",
       "    <div>\n",
       "        <style>\n",
       "            /* Turns off some styling */\n",
       "            progress {\n",
       "                /* gets rid of default border in Firefox and Opera. */\n",
       "                border: none;\n",
       "                /* Needs to be in here for Safari polyfill so background images work as expected. */\n",
       "                background-size: auto;\n",
       "            }\n",
       "            .progress-bar-interrupted, .progress-bar-interrupted::-webkit-progress-bar {\n",
       "                background: #F44336;\n",
       "            }\n",
       "        </style>\n",
       "      <progress value='14' class='' max='17' style='width:300px; height:20px; vertical-align: middle;'></progress>\n",
       "      82.35% [14/17 00:01<00:00 12.5851]\n",
       "    </div>\n",
       "    "
      ],
      "text/plain": [
       "<IPython.core.display.HTML object>"
      ]
     },
     "metadata": {},
     "output_type": "display_data"
    },
    {
     "name": "stdout",
     "output_type": "stream",
     "text": [
      "LR Finder is complete, type {learner_name}.recorder.plot() to see the graph.\n",
      "Min numerical gradient: 6.92E-02\n",
      "Min loss divided by 10: 6.31E-02\n"
     ]
    },
    {
     "data": {
      "text/html": [
       "<table border=\"1\" class=\"dataframe\">\n",
       "  <thead>\n",
       "    <tr style=\"text-align: left;\">\n",
       "      <th>epoch</th>\n",
       "      <th>train_loss</th>\n",
       "      <th>valid_loss</th>\n",
       "      <th>error_rate</th>\n",
       "      <th>accuracy</th>\n",
       "      <th>perplexity</th>\n",
       "      <th>time</th>\n",
       "    </tr>\n",
       "  </thead>\n",
       "  <tbody>\n",
       "    <tr>\n",
       "      <td>0</td>\n",
       "      <td>6.240806</td>\n",
       "      <td>5.100210</td>\n",
       "      <td>0.750335</td>\n",
       "      <td>0.249665</td>\n",
       "      <td>164.056381</td>\n",
       "      <td>00:02</td>\n",
       "    </tr>\n",
       "    <tr>\n",
       "      <td>1</td>\n",
       "      <td>5.523442</td>\n",
       "      <td>4.975887</td>\n",
       "      <td>0.743415</td>\n",
       "      <td>0.256585</td>\n",
       "      <td>144.877319</td>\n",
       "      <td>00:02</td>\n",
       "    </tr>\n",
       "  </tbody>\n",
       "</table>"
      ],
      "text/plain": [
       "<IPython.core.display.HTML object>"
      ]
     },
     "metadata": {},
     "output_type": "display_data"
    },
    {
     "name": "stdout",
     "output_type": "stream",
     "text": [
      "Better model found at epoch 0 with valid_loss value: 5.100210189819336.\n",
      "Better model found at epoch 1 with valid_loss value: 4.975887298583984.\n"
     ]
    },
    {
     "data": {
      "text/html": [
       "<table border=\"1\" class=\"dataframe\">\n",
       "  <thead>\n",
       "    <tr style=\"text-align: left;\">\n",
       "      <th>epoch</th>\n",
       "      <th>train_loss</th>\n",
       "      <th>valid_loss</th>\n",
       "      <th>error_rate</th>\n",
       "      <th>accuracy</th>\n",
       "      <th>perplexity</th>\n",
       "      <th>time</th>\n",
       "    </tr>\n",
       "  </thead>\n",
       "  <tbody>\n",
       "    <tr>\n",
       "      <td>0</td>\n",
       "      <td>4.656806</td>\n",
       "      <td>4.964087</td>\n",
       "      <td>0.742299</td>\n",
       "      <td>0.257701</td>\n",
       "      <td>143.177704</td>\n",
       "      <td>00:02</td>\n",
       "    </tr>\n",
       "    <tr>\n",
       "      <td>1</td>\n",
       "      <td>4.669999</td>\n",
       "      <td>5.666453</td>\n",
       "      <td>0.766071</td>\n",
       "      <td>0.233929</td>\n",
       "      <td>289.007690</td>\n",
       "      <td>00:02</td>\n",
       "    </tr>\n",
       "    <tr>\n",
       "      <td>2</td>\n",
       "      <td>5.202414</td>\n",
       "      <td>6.366972</td>\n",
       "      <td>0.823884</td>\n",
       "      <td>0.176116</td>\n",
       "      <td>582.291992</td>\n",
       "      <td>00:02</td>\n",
       "    </tr>\n",
       "    <tr>\n",
       "      <td>3</td>\n",
       "      <td>nan</td>\n",
       "      <td>nan</td>\n",
       "      <td>0.769308</td>\n",
       "      <td>0.230692</td>\n",
       "      <td>nan</td>\n",
       "      <td>00:02</td>\n",
       "    </tr>\n",
       "    <tr>\n",
       "      <td>4</td>\n",
       "      <td>nan</td>\n",
       "      <td>nan</td>\n",
       "      <td>0.769308</td>\n",
       "      <td>0.230692</td>\n",
       "      <td>nan</td>\n",
       "      <td>00:02</td>\n",
       "    </tr>\n",
       "    <tr>\n",
       "      <td>5</td>\n",
       "      <td>nan</td>\n",
       "      <td>nan</td>\n",
       "      <td>0.769308</td>\n",
       "      <td>0.230692</td>\n",
       "      <td>nan</td>\n",
       "      <td>00:02</td>\n",
       "    </tr>\n",
       "    <tr>\n",
       "      <td>6</td>\n",
       "      <td>nan</td>\n",
       "      <td>nan</td>\n",
       "      <td>0.769308</td>\n",
       "      <td>0.230692</td>\n",
       "      <td>nan</td>\n",
       "      <td>00:03</td>\n",
       "    </tr>\n",
       "    <tr>\n",
       "      <td>7</td>\n",
       "      <td>nan</td>\n",
       "      <td>nan</td>\n",
       "      <td>0.769308</td>\n",
       "      <td>0.230692</td>\n",
       "      <td>nan</td>\n",
       "      <td>00:03</td>\n",
       "    </tr>\n",
       "  </tbody>\n",
       "</table>"
      ],
      "text/plain": [
       "<IPython.core.display.HTML object>"
      ]
     },
     "metadata": {},
     "output_type": "display_data"
    },
    {
     "name": "stdout",
     "output_type": "stream",
     "text": [
      "Better model found at epoch 0 with valid_loss value: 4.964086532592773.\n",
      "Epoch 1: reducing lr to 0.052450923285242604\n",
      "Epoch 2: reducing lr to 0.05357279417141214\n",
      "Epoch 3: reducing lr to 0.044519682563675216\n",
      "Epoch 4: reducing lr to 0.03038579041434177\n",
      "Epoch 5: reducing lr to 0.015433837928727993\n",
      "Epoch 6: reducing lr to 0.004173268740331488\n"
     ]
    },
    {
     "data": {
      "text/html": [
       "\n",
       "    <div>\n",
       "        <style>\n",
       "            /* Turns off some styling */\n",
       "            progress {\n",
       "                /* gets rid of default border in Firefox and Opera. */\n",
       "                border: none;\n",
       "                /* Needs to be in here for Safari polyfill so background images work as expected. */\n",
       "                background-size: auto;\n",
       "            }\n",
       "            .progress-bar-interrupted, .progress-bar-interrupted::-webkit-progress-bar {\n",
       "                background: #F44336;\n",
       "            }\n",
       "        </style>\n",
       "      <progress value='0' class='' max='1' style='width:300px; height:20px; vertical-align: middle;'></progress>\n",
       "      0.00% [0/1 00:00<00:00]\n",
       "    </div>\n",
       "    \n",
       "<table border=\"1\" class=\"dataframe\">\n",
       "  <thead>\n",
       "    <tr style=\"text-align: left;\">\n",
       "      <th>epoch</th>\n",
       "      <th>train_loss</th>\n",
       "      <th>valid_loss</th>\n",
       "      <th>accuracy</th>\n",
       "      <th>time</th>\n",
       "    </tr>\n",
       "  </thead>\n",
       "  <tbody>\n",
       "  </tbody>\n",
       "</table><p>\n",
       "\n",
       "    <div>\n",
       "        <style>\n",
       "            /* Turns off some styling */\n",
       "            progress {\n",
       "                /* gets rid of default border in Firefox and Opera. */\n",
       "                border: none;\n",
       "                /* Needs to be in here for Safari polyfill so background images work as expected. */\n",
       "                background-size: auto;\n",
       "            }\n",
       "            .progress-bar-interrupted, .progress-bar-interrupted::-webkit-progress-bar {\n",
       "                background: #F44336;\n",
       "            }\n",
       "        </style>\n",
       "      <progress value='96' class='' max='178' style='width:300px; height:20px; vertical-align: middle;'></progress>\n",
       "      53.93% [96/178 00:01<00:01 1.1905]\n",
       "    </div>\n",
       "    "
      ],
      "text/plain": [
       "<IPython.core.display.HTML object>"
      ]
     },
     "metadata": {},
     "output_type": "display_data"
    },
    {
     "name": "stdout",
     "output_type": "stream",
     "text": [
      "LR Finder is complete, type {learner_name}.recorder.plot() to see the graph.\n",
      "Min numerical gradient: 4.79E-04\n",
      "Min loss divided by 10: 3.63E-02\n"
     ]
    },
    {
     "data": {
      "text/html": [
       "<table border=\"1\" class=\"dataframe\">\n",
       "  <thead>\n",
       "    <tr style=\"text-align: left;\">\n",
       "      <th>epoch</th>\n",
       "      <th>train_loss</th>\n",
       "      <th>valid_loss</th>\n",
       "      <th>accuracy</th>\n",
       "      <th>time</th>\n",
       "    </tr>\n",
       "  </thead>\n",
       "  <tbody>\n",
       "    <tr>\n",
       "      <td>0</td>\n",
       "      <td>0.571426</td>\n",
       "      <td>0.486116</td>\n",
       "      <td>0.774803</td>\n",
       "      <td>00:03</td>\n",
       "    </tr>\n",
       "    <tr>\n",
       "      <td>1</td>\n",
       "      <td>0.457581</td>\n",
       "      <td>0.395035</td>\n",
       "      <td>0.798425</td>\n",
       "      <td>00:03</td>\n",
       "    </tr>\n",
       "    <tr>\n",
       "      <td>2</td>\n",
       "      <td>0.436195</td>\n",
       "      <td>0.379462</td>\n",
       "      <td>0.809449</td>\n",
       "      <td>00:03</td>\n",
       "    </tr>\n",
       "    <tr>\n",
       "      <td>3</td>\n",
       "      <td>0.416424</td>\n",
       "      <td>0.373134</td>\n",
       "      <td>0.806299</td>\n",
       "      <td>00:03</td>\n",
       "    </tr>\n",
       "    <tr>\n",
       "      <td>4</td>\n",
       "      <td>0.399559</td>\n",
       "      <td>0.364231</td>\n",
       "      <td>0.834646</td>\n",
       "      <td>00:03</td>\n",
       "    </tr>\n",
       "    <tr>\n",
       "      <td>5</td>\n",
       "      <td>0.392872</td>\n",
       "      <td>0.358947</td>\n",
       "      <td>0.828346</td>\n",
       "      <td>00:03</td>\n",
       "    </tr>\n",
       "    <tr>\n",
       "      <td>6</td>\n",
       "      <td>0.378210</td>\n",
       "      <td>0.361472</td>\n",
       "      <td>0.820472</td>\n",
       "      <td>00:03</td>\n",
       "    </tr>\n",
       "    <tr>\n",
       "      <td>7</td>\n",
       "      <td>0.363431</td>\n",
       "      <td>0.359541</td>\n",
       "      <td>0.831496</td>\n",
       "      <td>00:03</td>\n",
       "    </tr>\n",
       "    <tr>\n",
       "      <td>8</td>\n",
       "      <td>0.387371</td>\n",
       "      <td>0.361572</td>\n",
       "      <td>0.822047</td>\n",
       "      <td>00:03</td>\n",
       "    </tr>\n",
       "    <tr>\n",
       "      <td>9</td>\n",
       "      <td>0.363498</td>\n",
       "      <td>0.360541</td>\n",
       "      <td>0.823622</td>\n",
       "      <td>00:03</td>\n",
       "    </tr>\n",
       "    <tr>\n",
       "      <td>10</td>\n",
       "      <td>0.343929</td>\n",
       "      <td>0.352575</td>\n",
       "      <td>0.833071</td>\n",
       "      <td>00:03</td>\n",
       "    </tr>\n",
       "    <tr>\n",
       "      <td>11</td>\n",
       "      <td>0.341026</td>\n",
       "      <td>0.349764</td>\n",
       "      <td>0.826772</td>\n",
       "      <td>00:03</td>\n",
       "    </tr>\n",
       "  </tbody>\n",
       "</table>"
      ],
      "text/plain": [
       "<IPython.core.display.HTML object>"
      ]
     },
     "metadata": {},
     "output_type": "display_data"
    },
    {
     "name": "stdout",
     "output_type": "stream",
     "text": [
      "Better model found at epoch 0 with valid_loss value: 0.48611608147621155.\n",
      "Better model found at epoch 1 with valid_loss value: 0.3950345516204834.\n",
      "Better model found at epoch 2 with valid_loss value: 0.3794616758823395.\n",
      "Better model found at epoch 3 with valid_loss value: 0.3731343448162079.\n",
      "Better model found at epoch 4 with valid_loss value: 0.3642307221889496.\n",
      "Better model found at epoch 5 with valid_loss value: 0.3589470386505127.\n",
      "Better model found at epoch 10 with valid_loss value: 0.35257500410079956.\n",
      "Better model found at epoch 11 with valid_loss value: 0.3497638404369354.\n"
     ]
    },
    {
     "data": {
      "text/html": [],
      "text/plain": [
       "<IPython.core.display.HTML object>"
      ]
     },
     "metadata": {},
     "output_type": "display_data"
    },
    {
     "name": "stdout",
     "output_type": "stream",
     "text": [
      "The accuracy is 0.8267716765403748 %.\n",
      "Gradual Unfreezing..\n"
     ]
    },
    {
     "data": {
      "text/html": [
       "<table border=\"1\" class=\"dataframe\">\n",
       "  <thead>\n",
       "    <tr style=\"text-align: left;\">\n",
       "      <th>epoch</th>\n",
       "      <th>train_loss</th>\n",
       "      <th>valid_loss</th>\n",
       "      <th>accuracy</th>\n",
       "      <th>time</th>\n",
       "    </tr>\n",
       "  </thead>\n",
       "  <tbody>\n",
       "    <tr>\n",
       "      <td>0</td>\n",
       "      <td>0.355945</td>\n",
       "      <td>0.348433</td>\n",
       "      <td>0.829921</td>\n",
       "      <td>00:04</td>\n",
       "    </tr>\n",
       "    <tr>\n",
       "      <td>1</td>\n",
       "      <td>0.359128</td>\n",
       "      <td>0.364528</td>\n",
       "      <td>0.829921</td>\n",
       "      <td>00:04</td>\n",
       "    </tr>\n",
       "    <tr>\n",
       "      <td>2</td>\n",
       "      <td>0.350760</td>\n",
       "      <td>0.358399</td>\n",
       "      <td>0.818898</td>\n",
       "      <td>00:04</td>\n",
       "    </tr>\n",
       "    <tr>\n",
       "      <td>3</td>\n",
       "      <td>0.321731</td>\n",
       "      <td>0.348572</td>\n",
       "      <td>0.842520</td>\n",
       "      <td>00:04</td>\n",
       "    </tr>\n",
       "    <tr>\n",
       "      <td>4</td>\n",
       "      <td>0.316265</td>\n",
       "      <td>0.353786</td>\n",
       "      <td>0.826772</td>\n",
       "      <td>00:04</td>\n",
       "    </tr>\n",
       "    <tr>\n",
       "      <td>5</td>\n",
       "      <td>0.278865</td>\n",
       "      <td>0.338880</td>\n",
       "      <td>0.847244</td>\n",
       "      <td>00:04</td>\n",
       "    </tr>\n",
       "    <tr>\n",
       "      <td>6</td>\n",
       "      <td>0.260245</td>\n",
       "      <td>0.341317</td>\n",
       "      <td>0.850394</td>\n",
       "      <td>00:04</td>\n",
       "    </tr>\n",
       "    <tr>\n",
       "      <td>7</td>\n",
       "      <td>0.262889</td>\n",
       "      <td>0.344906</td>\n",
       "      <td>0.845669</td>\n",
       "      <td>00:04</td>\n",
       "    </tr>\n",
       "  </tbody>\n",
       "</table>"
      ],
      "text/plain": [
       "<IPython.core.display.HTML object>"
      ]
     },
     "metadata": {},
     "output_type": "display_data"
    },
    {
     "name": "stdout",
     "output_type": "stream",
     "text": [
      "Better model found at epoch 0 with valid_loss value: 0.34843266010284424.\n",
      "Better model found at epoch 5 with valid_loss value: 0.33888015151023865.\n"
     ]
    },
    {
     "data": {
      "text/html": [
       "<table border=\"1\" class=\"dataframe\">\n",
       "  <thead>\n",
       "    <tr style=\"text-align: left;\">\n",
       "      <th>epoch</th>\n",
       "      <th>train_loss</th>\n",
       "      <th>valid_loss</th>\n",
       "      <th>accuracy</th>\n",
       "      <th>time</th>\n",
       "    </tr>\n",
       "  </thead>\n",
       "  <tbody>\n",
       "    <tr>\n",
       "      <td>0</td>\n",
       "      <td>0.279692</td>\n",
       "      <td>0.356691</td>\n",
       "      <td>0.842520</td>\n",
       "      <td>00:05</td>\n",
       "    </tr>\n",
       "    <tr>\n",
       "      <td>1</td>\n",
       "      <td>0.272455</td>\n",
       "      <td>0.363111</td>\n",
       "      <td>0.829921</td>\n",
       "      <td>00:05</td>\n",
       "    </tr>\n",
       "    <tr>\n",
       "      <td>2</td>\n",
       "      <td>0.240879</td>\n",
       "      <td>0.366552</td>\n",
       "      <td>0.840945</td>\n",
       "      <td>00:05</td>\n",
       "    </tr>\n",
       "    <tr>\n",
       "      <td>3</td>\n",
       "      <td>0.186603</td>\n",
       "      <td>0.380000</td>\n",
       "      <td>0.850394</td>\n",
       "      <td>00:05</td>\n",
       "    </tr>\n",
       "    <tr>\n",
       "      <td>4</td>\n",
       "      <td>0.172274</td>\n",
       "      <td>0.376991</td>\n",
       "      <td>0.847244</td>\n",
       "      <td>00:05</td>\n",
       "    </tr>\n",
       "    <tr>\n",
       "      <td>5</td>\n",
       "      <td>0.136865</td>\n",
       "      <td>0.379211</td>\n",
       "      <td>0.845669</td>\n",
       "      <td>00:05</td>\n",
       "    </tr>\n",
       "  </tbody>\n",
       "</table>"
      ],
      "text/plain": [
       "<IPython.core.display.HTML object>"
      ]
     },
     "metadata": {},
     "output_type": "display_data"
    },
    {
     "name": "stdout",
     "output_type": "stream",
     "text": [
      "Better model found at epoch 0 with valid_loss value: 0.3566914200782776.\n",
      "Completely Unfreezing..\n"
     ]
    },
    {
     "data": {
      "text/html": [
       "\n",
       "    <div>\n",
       "        <style>\n",
       "            /* Turns off some styling */\n",
       "            progress {\n",
       "                /* gets rid of default border in Firefox and Opera. */\n",
       "                border: none;\n",
       "                /* Needs to be in here for Safari polyfill so background images work as expected. */\n",
       "                background-size: auto;\n",
       "            }\n",
       "            .progress-bar-interrupted, .progress-bar-interrupted::-webkit-progress-bar {\n",
       "                background: #F44336;\n",
       "            }\n",
       "        </style>\n",
       "      <progress value='0' class='' max='1' style='width:300px; height:20px; vertical-align: middle;'></progress>\n",
       "      0.00% [0/1 00:00<00:00]\n",
       "    </div>\n",
       "    \n",
       "<table border=\"1\" class=\"dataframe\">\n",
       "  <thead>\n",
       "    <tr style=\"text-align: left;\">\n",
       "      <th>epoch</th>\n",
       "      <th>train_loss</th>\n",
       "      <th>valid_loss</th>\n",
       "      <th>accuracy</th>\n",
       "      <th>time</th>\n",
       "    </tr>\n",
       "  </thead>\n",
       "  <tbody>\n",
       "  </tbody>\n",
       "</table><p>\n",
       "\n",
       "    <div>\n",
       "        <style>\n",
       "            /* Turns off some styling */\n",
       "            progress {\n",
       "                /* gets rid of default border in Firefox and Opera. */\n",
       "                border: none;\n",
       "                /* Needs to be in here for Safari polyfill so background images work as expected. */\n",
       "                background-size: auto;\n",
       "            }\n",
       "            .progress-bar-interrupted, .progress-bar-interrupted::-webkit-progress-bar {\n",
       "                background: #F44336;\n",
       "            }\n",
       "        </style>\n",
       "      <progress value='91' class='' max='178' style='width:300px; height:20px; vertical-align: middle;'></progress>\n",
       "      51.12% [91/178 00:03<00:03 0.5480]\n",
       "    </div>\n",
       "    "
      ],
      "text/plain": [
       "<IPython.core.display.HTML object>"
      ]
     },
     "metadata": {},
     "output_type": "display_data"
    },
    {
     "name": "stdout",
     "output_type": "stream",
     "text": [
      "LR Finder is complete, type {learner_name}.recorder.plot() to see the graph.\n",
      "Min numerical gradient: 3.02E-05\n",
      "Min loss divided by 10: 5.25E-06\n"
     ]
    },
    {
     "data": {
      "text/html": [
       "<table border=\"1\" class=\"dataframe\">\n",
       "  <thead>\n",
       "    <tr style=\"text-align: left;\">\n",
       "      <th>epoch</th>\n",
       "      <th>train_loss</th>\n",
       "      <th>valid_loss</th>\n",
       "      <th>accuracy</th>\n",
       "      <th>time</th>\n",
       "    </tr>\n",
       "  </thead>\n",
       "  <tbody>\n",
       "    <tr>\n",
       "      <td>0</td>\n",
       "      <td>0.243317</td>\n",
       "      <td>0.358734</td>\n",
       "      <td>0.844095</td>\n",
       "      <td>00:08</td>\n",
       "    </tr>\n",
       "    <tr>\n",
       "      <td>1</td>\n",
       "      <td>0.255054</td>\n",
       "      <td>0.352843</td>\n",
       "      <td>0.844095</td>\n",
       "      <td>00:08</td>\n",
       "    </tr>\n",
       "    <tr>\n",
       "      <td>2</td>\n",
       "      <td>0.229055</td>\n",
       "      <td>0.349757</td>\n",
       "      <td>0.850394</td>\n",
       "      <td>00:07</td>\n",
       "    </tr>\n",
       "    <tr>\n",
       "      <td>3</td>\n",
       "      <td>0.230029</td>\n",
       "      <td>0.344982</td>\n",
       "      <td>0.847244</td>\n",
       "      <td>00:08</td>\n",
       "    </tr>\n",
       "    <tr>\n",
       "      <td>4</td>\n",
       "      <td>0.200606</td>\n",
       "      <td>0.349409</td>\n",
       "      <td>0.850394</td>\n",
       "      <td>00:07</td>\n",
       "    </tr>\n",
       "    <tr>\n",
       "      <td>5</td>\n",
       "      <td>0.215877</td>\n",
       "      <td>0.344638</td>\n",
       "      <td>0.847244</td>\n",
       "      <td>00:08</td>\n",
       "    </tr>\n",
       "  </tbody>\n",
       "</table>"
      ],
      "text/plain": [
       "<IPython.core.display.HTML object>"
      ]
     },
     "metadata": {},
     "output_type": "display_data"
    },
    {
     "name": "stdout",
     "output_type": "stream",
     "text": [
      "Better model found at epoch 0 with valid_loss value: 0.3587341606616974.\n",
      "Better model found at epoch 1 with valid_loss value: 0.35284286737442017.\n",
      "Better model found at epoch 2 with valid_loss value: 0.3497573733329773.\n",
      "Better model found at epoch 3 with valid_loss value: 0.34498193860054016.\n",
      "Better model found at epoch 5 with valid_loss value: 0.34463822841644287.\n"
     ]
    },
    {
     "data": {
      "text/html": [
       "<table border=\"1\" class=\"dataframe\">\n",
       "  <thead>\n",
       "    <tr style=\"text-align: left;\">\n",
       "      <th>epoch</th>\n",
       "      <th>train_loss</th>\n",
       "      <th>valid_loss</th>\n",
       "      <th>accuracy</th>\n",
       "      <th>time</th>\n",
       "    </tr>\n",
       "  </thead>\n",
       "  <tbody>\n",
       "    <tr>\n",
       "      <td>0</td>\n",
       "      <td>0.214200</td>\n",
       "      <td>0.345796</td>\n",
       "      <td>0.851969</td>\n",
       "      <td>00:08</td>\n",
       "    </tr>\n",
       "    <tr>\n",
       "      <td>1</td>\n",
       "      <td>0.214339</td>\n",
       "      <td>0.347623</td>\n",
       "      <td>0.847244</td>\n",
       "      <td>00:08</td>\n",
       "    </tr>\n",
       "    <tr>\n",
       "      <td>2</td>\n",
       "      <td>0.218714</td>\n",
       "      <td>0.346854</td>\n",
       "      <td>0.848819</td>\n",
       "      <td>00:08</td>\n",
       "    </tr>\n",
       "    <tr>\n",
       "      <td>3</td>\n",
       "      <td>0.219604</td>\n",
       "      <td>0.346961</td>\n",
       "      <td>0.839370</td>\n",
       "      <td>00:08</td>\n",
       "    </tr>\n",
       "    <tr>\n",
       "      <td>4</td>\n",
       "      <td>0.197979</td>\n",
       "      <td>0.351209</td>\n",
       "      <td>0.842520</td>\n",
       "      <td>00:08</td>\n",
       "    </tr>\n",
       "    <tr>\n",
       "      <td>5</td>\n",
       "      <td>0.195615</td>\n",
       "      <td>0.348502</td>\n",
       "      <td>0.839370</td>\n",
       "      <td>00:07</td>\n",
       "    </tr>\n",
       "  </tbody>\n",
       "</table>"
      ],
      "text/plain": [
       "<IPython.core.display.HTML object>"
      ]
     },
     "metadata": {},
     "output_type": "display_data"
    },
    {
     "name": "stdout",
     "output_type": "stream",
     "text": [
      "Better model found at epoch 0 with valid_loss value: 0.3457963764667511.\n"
     ]
    },
    {
     "data": {
      "text/html": [],
      "text/plain": [
       "<IPython.core.display.HTML object>"
      ]
     },
     "metadata": {},
     "output_type": "display_data"
    },
    {
     "name": "stdout",
     "output_type": "stream",
     "text": [
      "The accuracy is 0.85196852684021 %.\n"
     ]
    },
    {
     "data": {
      "text/html": [],
      "text/plain": [
       "<IPython.core.display.HTML object>"
      ]
     },
     "metadata": {},
     "output_type": "display_data"
    },
    {
     "data": {
      "text/html": [],
      "text/plain": [
       "<IPython.core.display.HTML object>"
      ]
     },
     "metadata": {},
     "output_type": "display_data"
    },
    {
     "data": {
      "text/html": [
       "\n",
       "    <div>\n",
       "        <style>\n",
       "            /* Turns off some styling */\n",
       "            progress {\n",
       "                /* gets rid of default border in Firefox and Opera. */\n",
       "                border: none;\n",
       "                /* Needs to be in here for Safari polyfill so background images work as expected. */\n",
       "                background-size: auto;\n",
       "            }\n",
       "            .progress-bar-interrupted, .progress-bar-interrupted::-webkit-progress-bar {\n",
       "                background: #F44336;\n",
       "            }\n",
       "        </style>\n",
       "      <progress value='11' class='' max='13' style='width:300px; height:20px; vertical-align: middle;'></progress>\n",
       "      84.62% [11/13 00:03<00:00]\n",
       "    </div>\n",
       "    \n",
       "<table border=\"1\" class=\"dataframe\">\n",
       "  <thead>\n",
       "    <tr style=\"text-align: left;\">\n",
       "      <th>epoch</th>\n",
       "      <th>train_loss</th>\n",
       "      <th>valid_loss</th>\n",
       "      <th>error_rate</th>\n",
       "      <th>accuracy</th>\n",
       "      <th>time</th>\n",
       "    </tr>\n",
       "  </thead>\n",
       "  <tbody>\n",
       "    <tr>\n",
       "      <td>0</td>\n",
       "      <td>0.685678</td>\n",
       "      <td>#na#</td>\n",
       "      <td>00:00</td>\n",
       "    </tr>\n",
       "    <tr>\n",
       "      <td>1</td>\n",
       "      <td>0.683043</td>\n",
       "      <td>#na#</td>\n",
       "      <td>00:00</td>\n",
       "    </tr>\n",
       "    <tr>\n",
       "      <td>2</td>\n",
       "      <td>0.670854</td>\n",
       "      <td>#na#</td>\n",
       "      <td>00:00</td>\n",
       "    </tr>\n",
       "    <tr>\n",
       "      <td>3</td>\n",
       "      <td>0.629085</td>\n",
       "      <td>#na#</td>\n",
       "      <td>00:00</td>\n",
       "    </tr>\n",
       "    <tr>\n",
       "      <td>4</td>\n",
       "      <td>0.558318</td>\n",
       "      <td>#na#</td>\n",
       "      <td>00:00</td>\n",
       "    </tr>\n",
       "    <tr>\n",
       "      <td>5</td>\n",
       "      <td>0.524958</td>\n",
       "      <td>#na#</td>\n",
       "      <td>00:00</td>\n",
       "    </tr>\n",
       "    <tr>\n",
       "      <td>6</td>\n",
       "      <td>0.498421</td>\n",
       "      <td>#na#</td>\n",
       "      <td>00:00</td>\n",
       "    </tr>\n",
       "    <tr>\n",
       "      <td>7</td>\n",
       "      <td>0.467890</td>\n",
       "      <td>#na#</td>\n",
       "      <td>00:00</td>\n",
       "    </tr>\n",
       "    <tr>\n",
       "      <td>8</td>\n",
       "      <td>0.443525</td>\n",
       "      <td>#na#</td>\n",
       "      <td>00:00</td>\n",
       "    </tr>\n",
       "    <tr>\n",
       "      <td>9</td>\n",
       "      <td>0.442711</td>\n",
       "      <td>#na#</td>\n",
       "      <td>00:00</td>\n",
       "    </tr>\n",
       "    <tr>\n",
       "      <td>10</td>\n",
       "      <td>0.649917</td>\n",
       "      <td>#na#</td>\n",
       "      <td>00:00</td>\n",
       "    </tr>\n",
       "  </tbody>\n",
       "</table><p>\n",
       "\n",
       "    <div>\n",
       "        <style>\n",
       "            /* Turns off some styling */\n",
       "            progress {\n",
       "                /* gets rid of default border in Firefox and Opera. */\n",
       "                border: none;\n",
       "                /* Needs to be in here for Safari polyfill so background images work as expected. */\n",
       "                background-size: auto;\n",
       "            }\n",
       "            .progress-bar-interrupted, .progress-bar-interrupted::-webkit-progress-bar {\n",
       "                background: #F44336;\n",
       "            }\n",
       "        </style>\n",
       "      <progress value='4' class='' max='8' style='width:300px; height:20px; vertical-align: middle;'></progress>\n",
       "      50.00% [4/8 00:00<00:00 1.3528]\n",
       "    </div>\n",
       "    "
      ],
      "text/plain": [
       "<IPython.core.display.HTML object>"
      ]
     },
     "metadata": {},
     "output_type": "display_data"
    },
    {
     "name": "stdout",
     "output_type": "stream",
     "text": [
      "LR Finder is complete, type {learner_name}.recorder.plot() to see the graph.\n",
      "Min numerical gradient: 7.59E-05\n",
      "Min loss divided by 10: 1.45E-02\n"
     ]
    },
    {
     "data": {
      "text/html": [
       "<table border=\"1\" class=\"dataframe\">\n",
       "  <thead>\n",
       "    <tr style=\"text-align: left;\">\n",
       "      <th>epoch</th>\n",
       "      <th>train_loss</th>\n",
       "      <th>valid_loss</th>\n",
       "      <th>error_rate</th>\n",
       "      <th>accuracy</th>\n",
       "      <th>time</th>\n",
       "    </tr>\n",
       "  </thead>\n",
       "  <tbody>\n",
       "    <tr>\n",
       "      <td>0</td>\n",
       "      <td>0.653442</td>\n",
       "      <td>0.708240</td>\n",
       "      <td>0.476190</td>\n",
       "      <td>0.523810</td>\n",
       "      <td>00:00</td>\n",
       "    </tr>\n",
       "    <tr>\n",
       "      <td>1</td>\n",
       "      <td>0.537373</td>\n",
       "      <td>0.524374</td>\n",
       "      <td>0.174603</td>\n",
       "      <td>0.825397</td>\n",
       "      <td>00:00</td>\n",
       "    </tr>\n",
       "    <tr>\n",
       "      <td>2</td>\n",
       "      <td>0.469800</td>\n",
       "      <td>0.368220</td>\n",
       "      <td>0.142857</td>\n",
       "      <td>0.857143</td>\n",
       "      <td>00:00</td>\n",
       "    </tr>\n",
       "    <tr>\n",
       "      <td>3</td>\n",
       "      <td>0.422124</td>\n",
       "      <td>0.327366</td>\n",
       "      <td>0.142857</td>\n",
       "      <td>0.857143</td>\n",
       "      <td>00:00</td>\n",
       "    </tr>\n",
       "    <tr>\n",
       "      <td>4</td>\n",
       "      <td>0.395377</td>\n",
       "      <td>0.307274</td>\n",
       "      <td>0.142857</td>\n",
       "      <td>0.857143</td>\n",
       "      <td>00:00</td>\n",
       "    </tr>\n",
       "    <tr>\n",
       "      <td>5</td>\n",
       "      <td>0.380709</td>\n",
       "      <td>0.303734</td>\n",
       "      <td>0.142857</td>\n",
       "      <td>0.857143</td>\n",
       "      <td>00:00</td>\n",
       "    </tr>\n",
       "    <tr>\n",
       "      <td>6</td>\n",
       "      <td>0.367116</td>\n",
       "      <td>0.303767</td>\n",
       "      <td>0.142857</td>\n",
       "      <td>0.857143</td>\n",
       "      <td>00:00</td>\n",
       "    </tr>\n",
       "    <tr>\n",
       "      <td>7</td>\n",
       "      <td>0.358653</td>\n",
       "      <td>0.300078</td>\n",
       "      <td>0.126984</td>\n",
       "      <td>0.873016</td>\n",
       "      <td>00:00</td>\n",
       "    </tr>\n",
       "  </tbody>\n",
       "</table>"
      ],
      "text/plain": [
       "<IPython.core.display.HTML object>"
      ]
     },
     "metadata": {},
     "output_type": "display_data"
    },
    {
     "name": "stdout",
     "output_type": "stream",
     "text": [
      "Better model found at epoch 0 with valid_loss value: 0.7082397937774658.\n",
      "Better model found at epoch 1 with valid_loss value: 0.5243743658065796.\n",
      "Better model found at epoch 2 with valid_loss value: 0.36822041869163513.\n",
      "Better model found at epoch 3 with valid_loss value: 0.32736602425575256.\n",
      "Better model found at epoch 4 with valid_loss value: 0.30727413296699524.\n",
      "Better model found at epoch 5 with valid_loss value: 0.30373409390449524.\n",
      "Better model found at epoch 7 with valid_loss value: 0.30007806420326233.\n"
     ]
    },
    {
     "data": {
      "text/html": [
       "<table border=\"1\" class=\"dataframe\">\n",
       "  <thead>\n",
       "    <tr style=\"text-align: left;\">\n",
       "      <th>epoch</th>\n",
       "      <th>train_loss</th>\n",
       "      <th>valid_loss</th>\n",
       "      <th>error_rate</th>\n",
       "      <th>accuracy</th>\n",
       "      <th>time</th>\n",
       "    </tr>\n",
       "  </thead>\n",
       "  <tbody>\n",
       "    <tr>\n",
       "      <td>0</td>\n",
       "      <td>0.336427</td>\n",
       "      <td>0.294939</td>\n",
       "      <td>0.126984</td>\n",
       "      <td>0.873016</td>\n",
       "      <td>00:00</td>\n",
       "    </tr>\n",
       "    <tr>\n",
       "      <td>1</td>\n",
       "      <td>0.334662</td>\n",
       "      <td>0.296748</td>\n",
       "      <td>0.126984</td>\n",
       "      <td>0.873016</td>\n",
       "      <td>00:00</td>\n",
       "    </tr>\n",
       "    <tr>\n",
       "      <td>2</td>\n",
       "      <td>0.328084</td>\n",
       "      <td>0.297450</td>\n",
       "      <td>0.142857</td>\n",
       "      <td>0.857143</td>\n",
       "      <td>00:00</td>\n",
       "    </tr>\n",
       "    <tr>\n",
       "      <td>3</td>\n",
       "      <td>0.327137</td>\n",
       "      <td>0.302406</td>\n",
       "      <td>0.142857</td>\n",
       "      <td>0.857143</td>\n",
       "      <td>00:00</td>\n",
       "    </tr>\n",
       "    <tr>\n",
       "      <td>4</td>\n",
       "      <td>0.318753</td>\n",
       "      <td>0.303866</td>\n",
       "      <td>0.142857</td>\n",
       "      <td>0.857143</td>\n",
       "      <td>00:00</td>\n",
       "    </tr>\n",
       "    <tr>\n",
       "      <td>5</td>\n",
       "      <td>0.318998</td>\n",
       "      <td>0.306298</td>\n",
       "      <td>0.142857</td>\n",
       "      <td>0.857143</td>\n",
       "      <td>00:00</td>\n",
       "    </tr>\n",
       "    <tr>\n",
       "      <td>6</td>\n",
       "      <td>0.318907</td>\n",
       "      <td>0.305085</td>\n",
       "      <td>0.142857</td>\n",
       "      <td>0.857143</td>\n",
       "      <td>00:00</td>\n",
       "    </tr>\n",
       "    <tr>\n",
       "      <td>7</td>\n",
       "      <td>0.319927</td>\n",
       "      <td>0.305957</td>\n",
       "      <td>0.142857</td>\n",
       "      <td>0.857143</td>\n",
       "      <td>00:00</td>\n",
       "    </tr>\n",
       "  </tbody>\n",
       "</table>"
      ],
      "text/plain": [
       "<IPython.core.display.HTML object>"
      ]
     },
     "metadata": {},
     "output_type": "display_data"
    },
    {
     "name": "stdout",
     "output_type": "stream",
     "text": [
      "Better model found at epoch 0 with valid_loss value: 0.2949393391609192.\n"
     ]
    },
    {
     "data": {
      "text/html": [
       "<table border=\"1\" class=\"dataframe\">\n",
       "  <thead>\n",
       "    <tr style=\"text-align: left;\">\n",
       "      <th>epoch</th>\n",
       "      <th>train_loss</th>\n",
       "      <th>valid_loss</th>\n",
       "      <th>error_rate</th>\n",
       "      <th>accuracy</th>\n",
       "      <th>time</th>\n",
       "    </tr>\n",
       "  </thead>\n",
       "  <tbody>\n",
       "    <tr>\n",
       "      <td>0</td>\n",
       "      <td>0.315623</td>\n",
       "      <td>0.295588</td>\n",
       "      <td>0.126984</td>\n",
       "      <td>0.873016</td>\n",
       "      <td>00:00</td>\n",
       "    </tr>\n",
       "    <tr>\n",
       "      <td>1</td>\n",
       "      <td>0.321604</td>\n",
       "      <td>0.297598</td>\n",
       "      <td>0.126984</td>\n",
       "      <td>0.873016</td>\n",
       "      <td>00:00</td>\n",
       "    </tr>\n",
       "    <tr>\n",
       "      <td>2</td>\n",
       "      <td>0.321712</td>\n",
       "      <td>0.300282</td>\n",
       "      <td>0.126984</td>\n",
       "      <td>0.873016</td>\n",
       "      <td>00:00</td>\n",
       "    </tr>\n",
       "    <tr>\n",
       "      <td>3</td>\n",
       "      <td>0.319414</td>\n",
       "      <td>0.301496</td>\n",
       "      <td>0.142857</td>\n",
       "      <td>0.857143</td>\n",
       "      <td>00:00</td>\n",
       "    </tr>\n",
       "    <tr>\n",
       "      <td>4</td>\n",
       "      <td>0.321960</td>\n",
       "      <td>0.304675</td>\n",
       "      <td>0.142857</td>\n",
       "      <td>0.857143</td>\n",
       "      <td>00:00</td>\n",
       "    </tr>\n",
       "    <tr>\n",
       "      <td>5</td>\n",
       "      <td>0.312399</td>\n",
       "      <td>0.306568</td>\n",
       "      <td>0.142857</td>\n",
       "      <td>0.857143</td>\n",
       "      <td>00:00</td>\n",
       "    </tr>\n",
       "    <tr>\n",
       "      <td>6</td>\n",
       "      <td>0.316420</td>\n",
       "      <td>0.306972</td>\n",
       "      <td>0.142857</td>\n",
       "      <td>0.857143</td>\n",
       "      <td>00:00</td>\n",
       "    </tr>\n",
       "    <tr>\n",
       "      <td>7</td>\n",
       "      <td>0.316888</td>\n",
       "      <td>0.308428</td>\n",
       "      <td>0.142857</td>\n",
       "      <td>0.857143</td>\n",
       "      <td>00:00</td>\n",
       "    </tr>\n",
       "  </tbody>\n",
       "</table>"
      ],
      "text/plain": [
       "<IPython.core.display.HTML object>"
      ]
     },
     "metadata": {},
     "output_type": "display_data"
    },
    {
     "name": "stdout",
     "output_type": "stream",
     "text": [
      "Better model found at epoch 0 with accuracy value: 0.8730159401893616.\n"
     ]
    },
    {
     "data": {
      "image/png": "[encoded data removed]",
      "text/plain": [
       "<Figure size 432x288 with 1 Axes>"
      ]
     },
     "metadata": {
      "needs_background": "light"
     },
     "output_type": "display_data"
    },
    {
     "data": {
      "image/png": "[encoded data removed]",
      "text/plain": [
       "<Figure size 432x288 with 1 Axes>"
      ]
     },
     "metadata": {
      "needs_background": "light"
     },
     "output_type": "display_data"
    },
    {
     "data": {
      "image/png": "[encoded data removed]",
      "text/plain": [
       "<Figure size 432x288 with 1 Axes>"
      ]
     },
     "metadata": {
      "needs_background": "light"
     },
     "output_type": "display_data"
    },
    {
     "data": {
      "image/png": "[encoded data removed]",
      "text/plain": [
       "<Figure size 432x288 with 1 Axes>"
      ]
     },
     "metadata": {
      "needs_background": "light"
     },
     "output_type": "display_data"
    },
    {
     "data": {
      "image/png": "[encoded data removed]",
      "text/plain": [
       "<Figure size 432x288 with 1 Axes>"
      ]
     },
     "metadata": {
      "needs_background": "light"
     },
     "output_type": "display_data"
    },
    {
     "data": {
      "image/png": "[encoded data removed]",
      "text/plain": [
       "<Figure size 432x288 with 1 Axes>"
      ]
     },
     "metadata": {
      "needs_background": "light"
     },
     "output_type": "display_data"
    },
    {
     "data": {
      "image/png": "[encoded data removed]",
      "text/plain": [
       "<Figure size 432x288 with 1 Axes>"
      ]
     },
     "metadata": {
      "needs_background": "light"
     },
     "output_type": "display_data"
    },
    {
     "data": {
      "image/png": "[encoded data removed]",
      "text/plain": [
       "<Figure size 432x288 with 1 Axes>"
      ]
     },
     "metadata": {
      "needs_background": "light"
     },
     "output_type": "display_data"
    }
   ],
   "source": [
    "import pandas as pd\n",
    "\n",
    "pd.set_option('display.max_colwidth', -1)\n",
    "path_to_csv=\"sinhala-hate-speech-dataset.csv\"\n",
    "df = pd.read_csv(path_to_csv)\n",
    "\n",
    "text_name = \"comment\"\n",
    "label_name = \"label\"\n",
    "\n",
    "# print(df.head())\n",
    "\n",
    "classifierModelFWD, classifierModelBWD, ensembleModel, classes = adapttext.build_classifier(df, text_name, label_name, grad_unfreeze=True)"
   ]
  },
  {
   "cell_type": "code",
   "execution_count": 11,
   "id": "unknown-display",
   "metadata": {},
   "outputs": [
    {
     "data": {
      "text/html": [],
      "text/plain": [
       "<IPython.core.display.HTML object>"
      ]
     },
     "metadata": {},
     "output_type": "display_data"
    },
    {
     "name": "stdout",
     "output_type": "stream",
     "text": [
      "The accuracy is 0.8730158805847168 %.\n",
      "The error rate is 0.1269841194152832 %.\n",
      "ROC area is 0.9490022172949002\n"
     ]
    },
    {
     "data": {
      "text/html": [],
      "text/plain": [
       "<IPython.core.display.HTML object>"
      ]
     },
     "metadata": {},
     "output_type": "display_data"
    },
    {
     "name": "stdout",
     "output_type": "stream",
     "text": [
      "              precision    recall  f1-score   support\n",
      "\n",
      "           0       0.77      0.91      0.83        22\n",
      "           1       0.95      0.85      0.90        41\n",
      "\n",
      "    accuracy                           0.87        63\n",
      "   macro avg       0.86      0.88      0.87        63\n",
      "weighted avg       0.88      0.87      0.88        63\n",
      "\n",
      "--Mathews Correlation Coefficient--\n",
      "0.7385801534441734\n"
     ]
    },
    {
     "data": {
      "image/png": "[encoded data removed]",
      "text/plain": [
       "<Figure size 432x288 with 1 Axes>"
      ]
     },
     "metadata": {
      "needs_background": "light"
     },
     "output_type": "display_data"
    },
    {
     "data": {
      "image/png": "[encoded data removed]",
      "text/plain": [
       "<Figure size 432x288 with 1 Axes>"
      ]
     },
     "metadata": {
      "needs_background": "light"
     },
     "output_type": "display_data"
    }
   ],
   "source": [
    "from AdaptTextLib.adapttext.evaluator.evaluator import Evaluator\n",
    "\n",
    "evaluator = Evaluator()\n",
    "evaluator.evaluate_ensemble(ensembleModel)"
   ]
  },
  {
   "cell_type": "code",
   "execution_count": null,
   "id": "fitting-poetry",
   "metadata": {},
   "outputs": [],
   "source": []
  }
 ],
 "metadata": {
  "kernelspec": {
   "display_name": "Python 3",
   "language": "python",
   "name": "python3"
  },
  "language_info": {
   "codemirror_mode": {
    "name": "ipython",
    "version": 3
   },
   "file_extension": ".py",
   "mimetype": "text/x-python",
   "name": "python",
   "nbconvert_exporter": "python",
   "pygments_lexer": "ipython3",
   "version": "3.7.10"
  }
 },
 "nbformat": 4,
 "nbformat_minor": 5
}
